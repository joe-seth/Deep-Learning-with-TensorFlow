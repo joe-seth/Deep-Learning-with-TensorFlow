{
  "nbformat": 4,
  "nbformat_minor": 0,
  "metadata": {
    "colab": {
      "provenance": [],
      "toc_visible": true,
      "gpuType": "T4"
    },
    "kernelspec": {
      "name": "python3",
      "display_name": "Python 3"
    },
    "language_info": {
      "name": "python"
    },
    "accelerator": "GPU"
  },
  "cells": [
    {
      "cell_type": "markdown",
      "source": [
        "# In this notebook I cover the most fundamental concepts of tensors using TensorFlow\n",
        "\n",
        "More specifically, I am going to cover:\n",
        "* Introduction to tensors\n",
        "* Getting information  from tensors\n",
        "* Maniputlating tensors\n",
        "* Tensors & Numpy\n",
        "* Using @tf.function (a way to speed up your regular Python functios)\n",
        "* Using GPUs with tensorflow or (TPUS)\n",
        "* Exercises to try our myself."
      ],
      "metadata": {
        "id": "sqByB5I7kApo"
      }
    },
    {
      "cell_type": "markdown",
      "source": [
        "## Introduction to Tensors"
      ],
      "metadata": {
        "id": "UT65nVoJkSnk"
      }
    },
    {
      "cell_type": "code",
      "source": [
        "# Import Tensorflow\n",
        "import tensorflow as tf\n",
        "import tensorflow_hub as hub\n",
        "print(tf.__version__)\n",
        "print(hub.__version__)"
      ],
      "metadata": {
        "colab": {
          "base_uri": "https://localhost:8080/"
        },
        "id": "Z70UH-tIk-W1",
        "outputId": "4dec2760-c1ea-4bfa-9492-7d01ce717bab"
      },
      "execution_count": 2,
      "outputs": [
        {
          "output_type": "stream",
          "name": "stdout",
          "text": [
            "2.12.0\n",
            "0.13.0\n"
          ]
        }
      ]
    },
    {
      "cell_type": "code",
      "source": [
        "# Creating tensors with tf.constant()\n",
        "scalar = tf.constant(7)\n",
        "scalar"
      ],
      "metadata": {
        "colab": {
          "base_uri": "https://localhost:8080/"
        },
        "id": "7bok8yuGlKhO",
        "outputId": "be6883b1-42c5-4139-afe6-1b9f8c05e882"
      },
      "execution_count": 3,
      "outputs": [
        {
          "output_type": "execute_result",
          "data": {
            "text/plain": [
              "<tf.Tensor: shape=(), dtype=int32, numpy=7>"
            ]
          },
          "metadata": {},
          "execution_count": 3
        }
      ]
    },
    {
      "cell_type": "code",
      "source": [
        "# check the number of dimension of a tensor (ndim stands for number of dimension)\n",
        "scalar.ndim"
      ],
      "metadata": {
        "colab": {
          "base_uri": "https://localhost:8080/"
        },
        "id": "_wuZO_BEle-_",
        "outputId": "47c08a66-89c1-441f-ee0f-b42debef0256"
      },
      "execution_count": 4,
      "outputs": [
        {
          "output_type": "execute_result",
          "data": {
            "text/plain": [
              "0"
            ]
          },
          "metadata": {},
          "execution_count": 4
        }
      ]
    },
    {
      "cell_type": "code",
      "source": [
        "# Create a vector\n",
        "vector = tf.constant([10,10])\n",
        "vector"
      ],
      "metadata": {
        "colab": {
          "base_uri": "https://localhost:8080/"
        },
        "id": "JH1iJybBmCmb",
        "outputId": "e919728c-4c51-4708-920a-36ca5c695ad8"
      },
      "execution_count": 5,
      "outputs": [
        {
          "output_type": "execute_result",
          "data": {
            "text/plain": [
              "<tf.Tensor: shape=(2,), dtype=int32, numpy=array([10, 10], dtype=int32)>"
            ]
          },
          "metadata": {},
          "execution_count": 5
        }
      ]
    },
    {
      "cell_type": "code",
      "source": [
        "# Check the dimension of vector\n",
        "vector.ndim"
      ],
      "metadata": {
        "colab": {
          "base_uri": "https://localhost:8080/"
        },
        "id": "-HpnW8dgmKVY",
        "outputId": "b0fb8aae-1ae8-4e06-a417-ed3fbb9b989c"
      },
      "execution_count": 6,
      "outputs": [
        {
          "output_type": "execute_result",
          "data": {
            "text/plain": [
              "1"
            ]
          },
          "metadata": {},
          "execution_count": 6
        }
      ]
    },
    {
      "cell_type": "code",
      "source": [
        "# Create a matrix (has more than 1 dimension)\n",
        "matrix = tf.constant([[10,7],\n",
        "                      [7,10]])\n",
        "matrix"
      ],
      "metadata": {
        "colab": {
          "base_uri": "https://localhost:8080/"
        },
        "id": "19Mq_rN1mWlh",
        "outputId": "84bc21b4-e304-40a4-e63b-c5b6b5725dd8"
      },
      "execution_count": 7,
      "outputs": [
        {
          "output_type": "execute_result",
          "data": {
            "text/plain": [
              "<tf.Tensor: shape=(2, 2), dtype=int32, numpy=\n",
              "array([[10,  7],\n",
              "       [ 7, 10]], dtype=int32)>"
            ]
          },
          "metadata": {},
          "execution_count": 7
        }
      ]
    },
    {
      "cell_type": "code",
      "source": [
        "matrix.ndim"
      ],
      "metadata": {
        "colab": {
          "base_uri": "https://localhost:8080/"
        },
        "id": "QeuJ5tDGmkGq",
        "outputId": "2aad8cec-db63-486b-eef7-44c7cd9c2c3f"
      },
      "execution_count": 8,
      "outputs": [
        {
          "output_type": "execute_result",
          "data": {
            "text/plain": [
              "2"
            ]
          },
          "metadata": {},
          "execution_count": 8
        }
      ]
    },
    {
      "cell_type": "code",
      "source": [
        "# Create another matrix\n",
        "another_matrix = tf.constant([[10., 7.],\n",
        "                             [3., 3.],\n",
        "                            [8.,9.]], dtype=tf.float16) # specify the data type with dtype parameters\n",
        "another_matrix"
      ],
      "metadata": {
        "colab": {
          "base_uri": "https://localhost:8080/"
        },
        "id": "2fOiKPQammDJ",
        "outputId": "d2954f90-a584-4d97-cd79-494b32293119"
      },
      "execution_count": 9,
      "outputs": [
        {
          "output_type": "execute_result",
          "data": {
            "text/plain": [
              "<tf.Tensor: shape=(3, 2), dtype=float16, numpy=\n",
              "array([[10.,  7.],\n",
              "       [ 3.,  3.],\n",
              "       [ 8.,  9.]], dtype=float16)>"
            ]
          },
          "metadata": {},
          "execution_count": 9
        }
      ]
    },
    {
      "cell_type": "code",
      "source": [
        "# Nummber of dimensions of another_matrix\n",
        "another_matrix.ndim"
      ],
      "metadata": {
        "colab": {
          "base_uri": "https://localhost:8080/"
        },
        "id": "f0affaELnIr8",
        "outputId": "b9840ced-7764-4be7-c53b-5afdd9842f2a"
      },
      "execution_count": 10,
      "outputs": [
        {
          "output_type": "execute_result",
          "data": {
            "text/plain": [
              "2"
            ]
          },
          "metadata": {},
          "execution_count": 10
        }
      ]
    },
    {
      "cell_type": "markdown",
      "source": [
        "` You realize that the number of dimensions is how many elements is in a shape`"
      ],
      "metadata": {
        "id": "LVra-4hUoMiB"
      }
    },
    {
      "cell_type": "code",
      "source": [
        "# Create  a tensor\n",
        "tensor = tf.constant([[[1,2,3,4],\n",
        "                       [4,5,6,7]],\n",
        "                       [[7,8,9,9],\n",
        "                        [10,11,12,11]],\n",
        "                     [[13,14,15,34],\n",
        "                      [16,17,18,56]]])\n",
        "tensor"
      ],
      "metadata": {
        "colab": {
          "base_uri": "https://localhost:8080/"
        },
        "id": "9WXkYiXPoY5q",
        "outputId": "8e070f22-f6e9-4349-cc8c-c9d45badc296"
      },
      "execution_count": 11,
      "outputs": [
        {
          "output_type": "execute_result",
          "data": {
            "text/plain": [
              "<tf.Tensor: shape=(3, 2, 4), dtype=int32, numpy=\n",
              "array([[[ 1,  2,  3,  4],\n",
              "        [ 4,  5,  6,  7]],\n",
              "\n",
              "       [[ 7,  8,  9,  9],\n",
              "        [10, 11, 12, 11]],\n",
              "\n",
              "       [[13, 14, 15, 34],\n",
              "        [16, 17, 18, 56]]], dtype=int32)>"
            ]
          },
          "metadata": {},
          "execution_count": 11
        }
      ]
    },
    {
      "cell_type": "code",
      "source": [
        "tensor.ndim"
      ],
      "metadata": {
        "colab": {
          "base_uri": "https://localhost:8080/"
        },
        "id": "U-7XezwAo4EH",
        "outputId": "6a8620ca-ca61-45f3-d38a-cb0544a0f86f"
      },
      "execution_count": 12,
      "outputs": [
        {
          "output_type": "execute_result",
          "data": {
            "text/plain": [
              "3"
            ]
          },
          "metadata": {},
          "execution_count": 12
        }
      ]
    },
    {
      "cell_type": "markdown",
      "source": [
        " What I've created so far:\n",
        "\n",
        " * Scalar: a single number\n",
        " * Vector: a number with direction (e.g wind spead and direction)\n",
        " * Matrix: a 2-dimensional array of numbers\n",
        " * Tensor: an n-dimensional array of number of more where n can be any number"
      ],
      "metadata": {
        "id": "0q8b1hclpSZo"
      }
    },
    {
      "cell_type": "markdown",
      "source": [
        "#### Creating tensors with tf.Variable"
      ],
      "metadata": {
        "id": "LHKcOgXPqOEw"
      }
    },
    {
      "cell_type": "markdown",
      "source": [],
      "metadata": {
        "id": "fe3Jb42orKOe"
      }
    },
    {
      "cell_type": "code",
      "source": [
        "# Create the same tensor with tf.Variable as above\n",
        "changeable_tensor = tf.Variable([10,7])\n",
        "unchangeable_tensor = tf.constant([10,7])\n",
        "changeable_tensor, unchangeable_tensor"
      ],
      "metadata": {
        "colab": {
          "base_uri": "https://localhost:8080/"
        },
        "id": "s9ydVSRUqUue",
        "outputId": "c6874ed5-8285-435a-e7cf-7ee29c97c266"
      },
      "execution_count": 13,
      "outputs": [
        {
          "output_type": "execute_result",
          "data": {
            "text/plain": [
              "(<tf.Variable 'Variable:0' shape=(2,) dtype=int32, numpy=array([10,  7], dtype=int32)>,\n",
              " <tf.Tensor: shape=(2,), dtype=int32, numpy=array([10,  7], dtype=int32)>)"
            ]
          },
          "metadata": {},
          "execution_count": 13
        }
      ]
    },
    {
      "cell_type": "code",
      "source": [
        "# Trying to change one of the elements in our changeable tensor\n",
        "changeable_tensor[0] = 7\n",
        "changeable_tensor"
      ],
      "metadata": {
        "colab": {
          "base_uri": "https://localhost:8080/",
          "height": 200
        },
        "id": "kKR4YFP7q2pV",
        "outputId": "4644a650-5ebe-4542-fd5f-f42e97c14589"
      },
      "execution_count": 14,
      "outputs": [
        {
          "output_type": "error",
          "ename": "TypeError",
          "evalue": "ignored",
          "traceback": [
            "\u001b[0;31m---------------------------------------------------------------------------\u001b[0m",
            "\u001b[0;31mTypeError\u001b[0m                                 Traceback (most recent call last)",
            "\u001b[0;32m<ipython-input-14-14e57aa18921>\u001b[0m in \u001b[0;36m<cell line: 2>\u001b[0;34m()\u001b[0m\n\u001b[1;32m      1\u001b[0m \u001b[0;31m# Trying to change one of the elements in our changeable tensor\u001b[0m\u001b[0;34m\u001b[0m\u001b[0;34m\u001b[0m\u001b[0m\n\u001b[0;32m----> 2\u001b[0;31m \u001b[0mchangeable_tensor\u001b[0m\u001b[0;34m[\u001b[0m\u001b[0;36m0\u001b[0m\u001b[0;34m]\u001b[0m \u001b[0;34m=\u001b[0m \u001b[0;36m7\u001b[0m\u001b[0;34m\u001b[0m\u001b[0;34m\u001b[0m\u001b[0m\n\u001b[0m\u001b[1;32m      3\u001b[0m \u001b[0mchangeable_tensor\u001b[0m\u001b[0;34m\u001b[0m\u001b[0;34m\u001b[0m\u001b[0m\n",
            "\u001b[0;31mTypeError\u001b[0m: 'ResourceVariable' object does not support item assignment"
          ]
        }
      ]
    },
    {
      "cell_type": "code",
      "source": [
        "# From the documentation, try .assing()\n",
        "changeable_tensor[0].assign(7)\n",
        "changeable_tensor"
      ],
      "metadata": {
        "id": "qOBfdNnTrOCt",
        "colab": {
          "base_uri": "https://localhost:8080/"
        },
        "outputId": "fe5e67a4-0989-433b-d823-06c3807636e9"
      },
      "execution_count": 15,
      "outputs": [
        {
          "output_type": "execute_result",
          "data": {
            "text/plain": [
              "<tf.Variable 'Variable:0' shape=(2,) dtype=int32, numpy=array([7, 7], dtype=int32)>"
            ]
          },
          "metadata": {},
          "execution_count": 15
        }
      ]
    },
    {
      "cell_type": "code",
      "source": [
        "# Trying to change the unchangeable tensor\n",
        "unchangeable_tensor[0].assign[7]\n",
        "unchangeable_tensor"
      ],
      "metadata": {
        "colab": {
          "base_uri": "https://localhost:8080/",
          "height": 356
        },
        "id": "LgrXGdq3rkrd",
        "outputId": "2d3d139d-f784-4e89-d626-c78d0e509d81"
      },
      "execution_count": 16,
      "outputs": [
        {
          "output_type": "error",
          "ename": "AttributeError",
          "evalue": "ignored",
          "traceback": [
            "\u001b[0;31m---------------------------------------------------------------------------\u001b[0m",
            "\u001b[0;31mAttributeError\u001b[0m                            Traceback (most recent call last)",
            "\u001b[0;32m<ipython-input-16-3009d41bdf59>\u001b[0m in \u001b[0;36m<cell line: 2>\u001b[0;34m()\u001b[0m\n\u001b[1;32m      1\u001b[0m \u001b[0;31m# Trying to change the unchangeable tensor\u001b[0m\u001b[0;34m\u001b[0m\u001b[0;34m\u001b[0m\u001b[0m\n\u001b[0;32m----> 2\u001b[0;31m \u001b[0munchangeable_tensor\u001b[0m\u001b[0;34m[\u001b[0m\u001b[0;36m0\u001b[0m\u001b[0;34m]\u001b[0m\u001b[0;34m.\u001b[0m\u001b[0massign\u001b[0m\u001b[0;34m[\u001b[0m\u001b[0;36m7\u001b[0m\u001b[0;34m]\u001b[0m\u001b[0;34m\u001b[0m\u001b[0;34m\u001b[0m\u001b[0m\n\u001b[0m\u001b[1;32m      3\u001b[0m \u001b[0munchangeable_tensor\u001b[0m\u001b[0;34m\u001b[0m\u001b[0;34m\u001b[0m\u001b[0m\n",
            "\u001b[0;32m/usr/local/lib/python3.10/dist-packages/tensorflow/python/framework/ops.py\u001b[0m in \u001b[0;36m__getattr__\u001b[0;34m(self, name)\u001b[0m\n\u001b[1;32m    441\u001b[0m         \u001b[0mnp_config\u001b[0m\u001b[0;34m.\u001b[0m\u001b[0menable_numpy_behavior\u001b[0m\u001b[0;34m(\u001b[0m\u001b[0;34m)\u001b[0m\u001b[0;34m\u001b[0m\u001b[0;34m\u001b[0m\u001b[0m\n\u001b[1;32m    442\u001b[0m       \"\"\")\n\u001b[0;32m--> 443\u001b[0;31m     \u001b[0mself\u001b[0m\u001b[0;34m.\u001b[0m\u001b[0m__getattribute__\u001b[0m\u001b[0;34m(\u001b[0m\u001b[0mname\u001b[0m\u001b[0;34m)\u001b[0m\u001b[0;34m\u001b[0m\u001b[0;34m\u001b[0m\u001b[0m\n\u001b[0m\u001b[1;32m    444\u001b[0m \u001b[0;34m\u001b[0m\u001b[0m\n\u001b[1;32m    445\u001b[0m   \u001b[0;34m@\u001b[0m\u001b[0mstaticmethod\u001b[0m\u001b[0;34m\u001b[0m\u001b[0;34m\u001b[0m\u001b[0m\n",
            "\u001b[0;31mAttributeError\u001b[0m: 'tensorflow.python.framework.ops.EagerTensor' object has no attribute 'assign'"
          ]
        }
      ]
    },
    {
      "cell_type": "markdown",
      "source": [
        "`It doesn't work. The tf.constant ensures that no changes and affected since the tensor is a constant`"
      ],
      "metadata": {
        "id": "YKxxJxtKx_9T"
      }
    },
    {
      "cell_type": "markdown",
      "source": [
        "**Note:** Rarely in practice will I ever need to decide wheter to use tf.constant or tf.Variable to crate tensors, as TensorFlow does this for me.\n",
        "However, if in doubt, I'll use tf.constant and change it later if needed"
      ],
      "metadata": {
        "id": "xBebPFmMuoWX"
      }
    },
    {
      "cell_type": "markdown",
      "source": [
        "## Creating random tensors\n",
        "\n",
        "Random tensors are tensors of some arbitrary size which contain random numbers"
      ],
      "metadata": {
        "id": "dSMoubAOr1Hl"
      }
    },
    {
      "cell_type": "code",
      "source": [
        "# Create two random (but the same) tensors\n",
        "random_1 = tf.random.Generator.from_seed(42) # set seed for reproducibility\n",
        "random_1 = random_1.normal(shape=(3,2))\n",
        "random_2 = tf.random.Generator.from_seed(42) # set seed for reproducibility\n",
        "random_2 = random_2.normal(shape=(3,2))\n",
        "# Are they equal ?\n",
        "random_1, random_2, random_1 == random_2"
      ],
      "metadata": {
        "colab": {
          "base_uri": "https://localhost:8080/"
        },
        "id": "zXvu2BQcvIzR",
        "outputId": "ff6c41f4-9450-47ef-8fbf-cecc9be01c57"
      },
      "execution_count": 17,
      "outputs": [
        {
          "output_type": "execute_result",
          "data": {
            "text/plain": [
              "(<tf.Tensor: shape=(3, 2), dtype=float32, numpy=\n",
              " array([[-0.7565803 , -0.06854702],\n",
              "        [ 0.07595026, -1.2573844 ],\n",
              "        [-0.23193765, -1.8107855 ]], dtype=float32)>,\n",
              " <tf.Tensor: shape=(3, 2), dtype=float32, numpy=\n",
              " array([[-0.7565803 , -0.06854702],\n",
              "        [ 0.07595026, -1.2573844 ],\n",
              "        [-0.23193765, -1.8107855 ]], dtype=float32)>,\n",
              " <tf.Tensor: shape=(3, 2), dtype=bool, numpy=\n",
              " array([[ True,  True],\n",
              "        [ True,  True],\n",
              "        [ True,  True]])>)"
            ]
          },
          "metadata": {},
          "execution_count": 17
        }
      ]
    },
    {
      "cell_type": "markdown",
      "source": [
        "## Shuffle the order of the elements\n",
        "\n",
        "**Why would I you want to shuffle the order of the elements in a tensor?**\n",
        "Assume you're working on a food classification problem and you had 15000 images of Humburger and pizza. ( first 10,000 images of Humburger and 5000 images of pizza  in that order).\n",
        "\n",
        "*The Problem at hand is that this order could affect how our neural network learns.*\n",
        "\n",
        "If it goes through the images in order, it might start to adjust its random weights too much so to the images of Humburger. I.e It goes through 10,000 images of humburger and identifies a pattern to the images and assumes that all images following that order are humburgers until it reaches the last 5000 images of pizza.\n",
        "\n",
        "So it's a good idea to mix up all the images so that there is no order at all. Then the algorithm can be fed both images to learn from simultaneously"
      ],
      "metadata": {
        "id": "ZxwzMdCSw3FA"
      }
    },
    {
      "cell_type": "code",
      "source": [
        "# Shuffle a tensor (valuable for when you want to shuffle your data so the inherent order does not affect learning)\n",
        "not_shuffled = tf.constant([[10,7],\n",
        "                            [6,7],\n",
        "                            [2,5]])\n",
        "# Shuffle our non-shuffled tensor\n",
        "# Set seed for reproducability but its not working. Try another option\n",
        "tf.random.shuffle(not_shuffled, seed=42)"
      ],
      "metadata": {
        "colab": {
          "base_uri": "https://localhost:8080/"
        },
        "id": "V7nQmC06ymdH",
        "outputId": "bd964bd3-a734-45fa-9060-37e346a8699d"
      },
      "execution_count": 18,
      "outputs": [
        {
          "output_type": "execute_result",
          "data": {
            "text/plain": [
              "<tf.Tensor: shape=(3, 2), dtype=int32, numpy=\n",
              "array([[ 2,  5],\n",
              "       [ 6,  7],\n",
              "       [10,  7]], dtype=int32)>"
            ]
          },
          "metadata": {},
          "execution_count": 18
        }
      ]
    },
    {
      "cell_type": "code",
      "source": [
        "# shuffle solution trial 1\n",
        "tf.random.set_seed(42)\n",
        "tf.random.shuffle(not_shuffled)"
      ],
      "metadata": {
        "colab": {
          "base_uri": "https://localhost:8080/"
        },
        "id": "cFUCYdCl4s3U",
        "outputId": "2abebe04-9589-40c8-f630-21472940d9a3"
      },
      "execution_count": 19,
      "outputs": [
        {
          "output_type": "execute_result",
          "data": {
            "text/plain": [
              "<tf.Tensor: shape=(3, 2), dtype=int32, numpy=\n",
              "array([[ 6,  7],\n",
              "       [ 2,  5],\n",
              "       [10,  7]], dtype=int32)>"
            ]
          },
          "metadata": {},
          "execution_count": 19
        }
      ]
    },
    {
      "cell_type": "markdown",
      "source": [
        "It looks like if we want our shuffled tensors to be in the same order, we've got to use the global level random seed as well as the operation level random seed:\n",
        "> If both the global and the operation seed are set: Both seeds are used in conjuction to delete"
      ],
      "metadata": {
        "id": "dWEwZlFv6OTd"
      }
    },
    {
      "cell_type": "markdown",
      "source": [
        " ### Other ways ot make tensors\n"
      ],
      "metadata": {
        "id": "4iZfn6v_0FFN"
      }
    },
    {
      "cell_type": "code",
      "source": [
        "# Create  tensor of ones\n",
        "tf.ones([7,10], dtype=tf.float16)"
      ],
      "metadata": {
        "colab": {
          "base_uri": "https://localhost:8080/"
        },
        "id": "ZRmiiNAL0WsU",
        "outputId": "58d7ca9f-3fa8-42d5-d36e-69be0282da1a"
      },
      "execution_count": 20,
      "outputs": [
        {
          "output_type": "execute_result",
          "data": {
            "text/plain": [
              "<tf.Tensor: shape=(7, 10), dtype=float16, numpy=\n",
              "array([[1., 1., 1., 1., 1., 1., 1., 1., 1., 1.],\n",
              "       [1., 1., 1., 1., 1., 1., 1., 1., 1., 1.],\n",
              "       [1., 1., 1., 1., 1., 1., 1., 1., 1., 1.],\n",
              "       [1., 1., 1., 1., 1., 1., 1., 1., 1., 1.],\n",
              "       [1., 1., 1., 1., 1., 1., 1., 1., 1., 1.],\n",
              "       [1., 1., 1., 1., 1., 1., 1., 1., 1., 1.],\n",
              "       [1., 1., 1., 1., 1., 1., 1., 1., 1., 1.]], dtype=float16)>"
            ]
          },
          "metadata": {},
          "execution_count": 20
        }
      ]
    },
    {
      "cell_type": "code",
      "source": [
        "# Create a tensor of all zeros\n",
        "tf.zeros([10,7], dtype=tf.float16)"
      ],
      "metadata": {
        "colab": {
          "base_uri": "https://localhost:8080/"
        },
        "id": "vyLKgDRy8y7h",
        "outputId": "b17fbe32-8564-41aa-cc98-c33e698fb8b9"
      },
      "execution_count": 21,
      "outputs": [
        {
          "output_type": "execute_result",
          "data": {
            "text/plain": [
              "<tf.Tensor: shape=(10, 7), dtype=float16, numpy=\n",
              "array([[0., 0., 0., 0., 0., 0., 0.],\n",
              "       [0., 0., 0., 0., 0., 0., 0.],\n",
              "       [0., 0., 0., 0., 0., 0., 0.],\n",
              "       [0., 0., 0., 0., 0., 0., 0.],\n",
              "       [0., 0., 0., 0., 0., 0., 0.],\n",
              "       [0., 0., 0., 0., 0., 0., 0.],\n",
              "       [0., 0., 0., 0., 0., 0., 0.],\n",
              "       [0., 0., 0., 0., 0., 0., 0.],\n",
              "       [0., 0., 0., 0., 0., 0., 0.],\n",
              "       [0., 0., 0., 0., 0., 0., 0.]], dtype=float16)>"
            ]
          },
          "metadata": {},
          "execution_count": 21
        }
      ]
    },
    {
      "cell_type": "markdown",
      "source": [
        "### Turn Numpy arrays  into tensors\n",
        "\n",
        "The main difference betweenn Numpy and TensorFlow tensors is that tensors can be run on a GPU computing."
      ],
      "metadata": {
        "id": "9zNqrhQX0wQq"
      }
    },
    {
      "cell_type": "code",
      "source": [
        "# You can also turn Numpy arrays into tensors\n",
        "import numpy as np\n",
        "numpy_A = np.arange(1, 25, dtype=np.int32)\n",
        "numpy_A\n",
        "# create a Numpy array between 1 and 25\n",
        "\n",
        "# X = tf.constant(some_matrix) # capital for matrix or tensor\n",
        "# Y = tf.constant(vector) # non-capital for vector"
      ],
      "metadata": {
        "colab": {
          "base_uri": "https://localhost:8080/"
        },
        "id": "ik0VY1R60gck",
        "outputId": "b11d48c1-02ff-4167-99b9-8c9a1c710259"
      },
      "execution_count": 22,
      "outputs": [
        {
          "output_type": "execute_result",
          "data": {
            "text/plain": [
              "array([ 1,  2,  3,  4,  5,  6,  7,  8,  9, 10, 11, 12, 13, 14, 15, 16, 17,\n",
              "       18, 19, 20, 21, 22, 23, 24], dtype=int32)"
            ]
          },
          "metadata": {},
          "execution_count": 22
        }
      ]
    },
    {
      "cell_type": "code",
      "source": [
        "A =tf.constant(numpy_A, shape=(2,4,3))\n",
        "A"
      ],
      "metadata": {
        "colab": {
          "base_uri": "https://localhost:8080/"
        },
        "id": "pM80mp3Z1qBZ",
        "outputId": "cf0959dc-fab9-47bc-b363-c72f4be8f9d2"
      },
      "execution_count": 23,
      "outputs": [
        {
          "output_type": "execute_result",
          "data": {
            "text/plain": [
              "<tf.Tensor: shape=(2, 4, 3), dtype=int32, numpy=\n",
              "array([[[ 1,  2,  3],\n",
              "        [ 4,  5,  6],\n",
              "        [ 7,  8,  9],\n",
              "        [10, 11, 12]],\n",
              "\n",
              "       [[13, 14, 15],\n",
              "        [16, 17, 18],\n",
              "        [19, 20, 21],\n",
              "        [22, 23, 24]]], dtype=int32)>"
            ]
          },
          "metadata": {},
          "execution_count": 23
        }
      ]
    },
    {
      "cell_type": "code",
      "source": [
        "A.ndim"
      ],
      "metadata": {
        "colab": {
          "base_uri": "https://localhost:8080/"
        },
        "id": "5HZieo8T-K4k",
        "outputId": "4b7b6b66-dc21-4d48-baad-8ab0327edc31"
      },
      "execution_count": 24,
      "outputs": [
        {
          "output_type": "execute_result",
          "data": {
            "text/plain": [
              "3"
            ]
          },
          "metadata": {},
          "execution_count": 24
        }
      ]
    },
    {
      "cell_type": "markdown",
      "source": [
        "# Getting  Information from tensors\n",
        "\n",
        "When dealing with tensors, its good to be aware of the following attributes:\n",
        "\n",
        "* Shape\n",
        "* Rank\n",
        "* Axis or dimension\n",
        "* Size"
      ],
      "metadata": {
        "id": "5uPDcf5J15J6"
      }
    },
    {
      "cell_type": "code",
      "source": [
        "# Creating a rank 4 tensorj (4 dimension)\n",
        "rank_4 = tf.zeros(shape=[5,3,3,5])\n",
        "rank_4"
      ],
      "metadata": {
        "colab": {
          "base_uri": "https://localhost:8080/"
        },
        "id": "vA2uf1Gf-M8A",
        "outputId": "6179efb4-73f2-4f0c-da0b-448d385ee9f3"
      },
      "execution_count": 25,
      "outputs": [
        {
          "output_type": "execute_result",
          "data": {
            "text/plain": [
              "<tf.Tensor: shape=(5, 3, 3, 5), dtype=float32, numpy=\n",
              "array([[[[0., 0., 0., 0., 0.],\n",
              "         [0., 0., 0., 0., 0.],\n",
              "         [0., 0., 0., 0., 0.]],\n",
              "\n",
              "        [[0., 0., 0., 0., 0.],\n",
              "         [0., 0., 0., 0., 0.],\n",
              "         [0., 0., 0., 0., 0.]],\n",
              "\n",
              "        [[0., 0., 0., 0., 0.],\n",
              "         [0., 0., 0., 0., 0.],\n",
              "         [0., 0., 0., 0., 0.]]],\n",
              "\n",
              "\n",
              "       [[[0., 0., 0., 0., 0.],\n",
              "         [0., 0., 0., 0., 0.],\n",
              "         [0., 0., 0., 0., 0.]],\n",
              "\n",
              "        [[0., 0., 0., 0., 0.],\n",
              "         [0., 0., 0., 0., 0.],\n",
              "         [0., 0., 0., 0., 0.]],\n",
              "\n",
              "        [[0., 0., 0., 0., 0.],\n",
              "         [0., 0., 0., 0., 0.],\n",
              "         [0., 0., 0., 0., 0.]]],\n",
              "\n",
              "\n",
              "       [[[0., 0., 0., 0., 0.],\n",
              "         [0., 0., 0., 0., 0.],\n",
              "         [0., 0., 0., 0., 0.]],\n",
              "\n",
              "        [[0., 0., 0., 0., 0.],\n",
              "         [0., 0., 0., 0., 0.],\n",
              "         [0., 0., 0., 0., 0.]],\n",
              "\n",
              "        [[0., 0., 0., 0., 0.],\n",
              "         [0., 0., 0., 0., 0.],\n",
              "         [0., 0., 0., 0., 0.]]],\n",
              "\n",
              "\n",
              "       [[[0., 0., 0., 0., 0.],\n",
              "         [0., 0., 0., 0., 0.],\n",
              "         [0., 0., 0., 0., 0.]],\n",
              "\n",
              "        [[0., 0., 0., 0., 0.],\n",
              "         [0., 0., 0., 0., 0.],\n",
              "         [0., 0., 0., 0., 0.]],\n",
              "\n",
              "        [[0., 0., 0., 0., 0.],\n",
              "         [0., 0., 0., 0., 0.],\n",
              "         [0., 0., 0., 0., 0.]]],\n",
              "\n",
              "\n",
              "       [[[0., 0., 0., 0., 0.],\n",
              "         [0., 0., 0., 0., 0.],\n",
              "         [0., 0., 0., 0., 0.]],\n",
              "\n",
              "        [[0., 0., 0., 0., 0.],\n",
              "         [0., 0., 0., 0., 0.],\n",
              "         [0., 0., 0., 0., 0.]],\n",
              "\n",
              "        [[0., 0., 0., 0., 0.],\n",
              "         [0., 0., 0., 0., 0.],\n",
              "         [0., 0., 0., 0., 0.]]]], dtype=float32)>"
            ]
          },
          "metadata": {},
          "execution_count": 25
        }
      ]
    },
    {
      "cell_type": "code",
      "source": [
        "\n",
        "rank_4.ndim"
      ],
      "metadata": {
        "colab": {
          "base_uri": "https://localhost:8080/"
        },
        "id": "oHzhCLrR95Zk",
        "outputId": "49a92071-6277-4652-f13f-922322372464"
      },
      "execution_count": 26,
      "outputs": [
        {
          "output_type": "execute_result",
          "data": {
            "text/plain": [
              "4"
            ]
          },
          "metadata": {},
          "execution_count": 26
        }
      ]
    },
    {
      "cell_type": "code",
      "source": [
        "rank_4.shape, tf.size(rank_4)"
      ],
      "metadata": {
        "colab": {
          "base_uri": "https://localhost:8080/"
        },
        "id": "kt-8z-Mo98BZ",
        "outputId": "f13efcdf-48b0-400a-bf68-79a90ca7b5bd"
      },
      "execution_count": 27,
      "outputs": [
        {
          "output_type": "execute_result",
          "data": {
            "text/plain": [
              "(TensorShape([5, 3, 3, 5]), <tf.Tensor: shape=(), dtype=int32, numpy=225>)"
            ]
          },
          "metadata": {},
          "execution_count": 27
        }
      ]
    },
    {
      "cell_type": "code",
      "source": [
        "#  Getting various attributes of our tensor\n",
        "print(\"Datatype of every element:\", rank_4.dtype)\n",
        "print(\"Number of Dimensions (rank):\", rank_4.ndim)\n",
        "print(\"Shape of tensor:\", rank_4.shape)\n",
        "print(\"Elements along the 0 axis:\", rank_4.shape[0])\n",
        "print(\"Elements along the last axis:\", rank_4.shape[-1])\n",
        "print(\"Total number of elements in our tensor:\", tf.size(rank_4).numpy())"
      ],
      "metadata": {
        "colab": {
          "base_uri": "https://localhost:8080/"
        },
        "id": "rty0f16cB9dL",
        "outputId": "9a679e9a-9d12-493e-a300-5554cccfc6ad"
      },
      "execution_count": 28,
      "outputs": [
        {
          "output_type": "stream",
          "name": "stdout",
          "text": [
            "Datatype of every element: <dtype: 'float32'>\n",
            "Number of Dimensions (rank): 4\n",
            "Shape of tensor: (5, 3, 3, 5)\n",
            "Elements along the 0 axis: 5\n",
            "Elements along the last axis: 5\n",
            "Total number of elements in our tensor: 225\n"
          ]
        }
      ]
    },
    {
      "cell_type": "markdown",
      "source": [
        " ## Indexing tensors\n",
        "\n",
        " Tensors can be indexed just like Python lists"
      ],
      "metadata": {
        "id": "GPBHlCvaClFa"
      }
    },
    {
      "cell_type": "code",
      "source": [
        "# Get the first 2 elements of each dimension\n",
        "rank_4[:2, :2, :2, :2]"
      ],
      "metadata": {
        "colab": {
          "base_uri": "https://localhost:8080/"
        },
        "id": "TseXi6MVESNA",
        "outputId": "5f309906-052f-4da9-8a07-cbac37c7ce1e"
      },
      "execution_count": 29,
      "outputs": [
        {
          "output_type": "execute_result",
          "data": {
            "text/plain": [
              "<tf.Tensor: shape=(2, 2, 2, 2), dtype=float32, numpy=\n",
              "array([[[[0., 0.],\n",
              "         [0., 0.]],\n",
              "\n",
              "        [[0., 0.],\n",
              "         [0., 0.]]],\n",
              "\n",
              "\n",
              "       [[[0., 0.],\n",
              "         [0., 0.]],\n",
              "\n",
              "        [[0., 0.],\n",
              "         [0., 0.]]]], dtype=float32)>"
            ]
          },
          "metadata": {},
          "execution_count": 29
        }
      ]
    },
    {
      "cell_type": "code",
      "source": [
        "# Get the first element from each dimension from each index except for the final one\n",
        "rank_4[:1,:1,:1,:]"
      ],
      "metadata": {
        "colab": {
          "base_uri": "https://localhost:8080/"
        },
        "id": "Q-_4nVT1E58E",
        "outputId": "8e40134a-39ab-4276-8039-e09580bb7529"
      },
      "execution_count": 30,
      "outputs": [
        {
          "output_type": "execute_result",
          "data": {
            "text/plain": [
              "<tf.Tensor: shape=(1, 1, 1, 5), dtype=float32, numpy=array([[[[0., 0., 0., 0., 0.]]]], dtype=float32)>"
            ]
          },
          "metadata": {},
          "execution_count": 30
        }
      ]
    },
    {
      "cell_type": "code",
      "source": [
        "# Get the first element from each dimension from each index except for the second last\n",
        "rank_4[:1,:1,:,:1]"
      ],
      "metadata": {
        "colab": {
          "base_uri": "https://localhost:8080/"
        },
        "id": "9V9JaoD0R30L",
        "outputId": "d63948e7-b7e1-4d99-c0be-fec30f9e7b5b"
      },
      "execution_count": 31,
      "outputs": [
        {
          "output_type": "execute_result",
          "data": {
            "text/plain": [
              "<tf.Tensor: shape=(1, 1, 3, 1), dtype=float32, numpy=\n",
              "array([[[[0.],\n",
              "         [0.],\n",
              "         [0.]]]], dtype=float32)>"
            ]
          },
          "metadata": {},
          "execution_count": 31
        }
      ]
    },
    {
      "cell_type": "code",
      "source": [
        "# Create a rank 2 tensor\n",
        "rank_2 = tf.constant([[20,8],\n",
        "                  [3,4]])\n",
        "rank_2"
      ],
      "metadata": {
        "colab": {
          "base_uri": "https://localhost:8080/"
        },
        "id": "rAeHLujeSdY0",
        "outputId": "7fed2976-5a4f-43ac-f5a1-171d61e24bb4"
      },
      "execution_count": 32,
      "outputs": [
        {
          "output_type": "execute_result",
          "data": {
            "text/plain": [
              "<tf.Tensor: shape=(2, 2), dtype=int32, numpy=\n",
              "array([[20,  8],\n",
              "       [ 3,  4]], dtype=int32)>"
            ]
          },
          "metadata": {},
          "execution_count": 32
        }
      ]
    },
    {
      "cell_type": "code",
      "source": [
        "rank_2.ndim"
      ],
      "metadata": {
        "colab": {
          "base_uri": "https://localhost:8080/"
        },
        "id": "g2cyjCvGS4WQ",
        "outputId": "1dcd9ec9-4be7-4dd0-a2a2-f76fe2f1da44"
      },
      "execution_count": 33,
      "outputs": [
        {
          "output_type": "execute_result",
          "data": {
            "text/plain": [
              "2"
            ]
          },
          "metadata": {},
          "execution_count": 33
        }
      ]
    },
    {
      "cell_type": "code",
      "source": [
        "# Get the last item of each of row our rank_2 tensor\n",
        "rank_2[:, :-1]"
      ],
      "metadata": {
        "colab": {
          "base_uri": "https://localhost:8080/"
        },
        "id": "VT-IoP9DTFiT",
        "outputId": "59df68e7-ae16-427c-cc76-90bbad07b9ca"
      },
      "execution_count": 34,
      "outputs": [
        {
          "output_type": "execute_result",
          "data": {
            "text/plain": [
              "<tf.Tensor: shape=(2, 1), dtype=int32, numpy=\n",
              "array([[20],\n",
              "       [ 3]], dtype=int32)>"
            ]
          },
          "metadata": {},
          "execution_count": 34
        }
      ]
    },
    {
      "cell_type": "code",
      "source": [
        "# Add in extra dimension to our rank 2 tensor\n",
        "rank_3_tensor = rank_2[..., tf.newaxis]\n",
        "rank_3_tensor"
      ],
      "metadata": {
        "colab": {
          "base_uri": "https://localhost:8080/"
        },
        "id": "dBNJ4I7ST8sv",
        "outputId": "0d986969-e4b0-4951-977f-6501f864ec43"
      },
      "execution_count": 35,
      "outputs": [
        {
          "output_type": "execute_result",
          "data": {
            "text/plain": [
              "<tf.Tensor: shape=(2, 2, 1), dtype=int32, numpy=\n",
              "array([[[20],\n",
              "        [ 8]],\n",
              "\n",
              "       [[ 3],\n",
              "        [ 4]]], dtype=int32)>"
            ]
          },
          "metadata": {},
          "execution_count": 35
        }
      ]
    },
    {
      "cell_type": "code",
      "source": [
        "# Alternative to tf.newaxis\n",
        "tf.expand_dims(rank_2, axis=-1) # -1 means expand the final axis"
      ],
      "metadata": {
        "id": "7TIL-swHUiLT",
        "colab": {
          "base_uri": "https://localhost:8080/"
        },
        "outputId": "92c3ea79-2141-4587-ce13-716dfb01b782"
      },
      "execution_count": 36,
      "outputs": [
        {
          "output_type": "execute_result",
          "data": {
            "text/plain": [
              "<tf.Tensor: shape=(2, 2, 1), dtype=int32, numpy=\n",
              "array([[[20],\n",
              "        [ 8]],\n",
              "\n",
              "       [[ 3],\n",
              "        [ 4]]], dtype=int32)>"
            ]
          },
          "metadata": {},
          "execution_count": 36
        }
      ]
    },
    {
      "cell_type": "code",
      "source": [
        "tf.expand_dims(rank_2, axis=0) # expand the 0 axis"
      ],
      "metadata": {
        "colab": {
          "base_uri": "https://localhost:8080/"
        },
        "id": "Mcg3me1JC0Mi",
        "outputId": "faf4c5d3-ffe5-47d2-81e8-2604a3d34e0a"
      },
      "execution_count": 37,
      "outputs": [
        {
          "output_type": "execute_result",
          "data": {
            "text/plain": [
              "<tf.Tensor: shape=(1, 2, 2), dtype=int32, numpy=\n",
              "array([[[20,  8],\n",
              "        [ 3,  4]]], dtype=int32)>"
            ]
          },
          "metadata": {},
          "execution_count": 37
        }
      ]
    },
    {
      "cell_type": "code",
      "source": [
        "rank_2"
      ],
      "metadata": {
        "colab": {
          "base_uri": "https://localhost:8080/"
        },
        "id": "FBrW_hUmDyAK",
        "outputId": "4c5212b1-7b8a-442c-de7a-55a007c35956"
      },
      "execution_count": 38,
      "outputs": [
        {
          "output_type": "execute_result",
          "data": {
            "text/plain": [
              "<tf.Tensor: shape=(2, 2), dtype=int32, numpy=\n",
              "array([[20,  8],\n",
              "       [ 3,  4]], dtype=int32)>"
            ]
          },
          "metadata": {},
          "execution_count": 38
        }
      ]
    },
    {
      "cell_type": "markdown",
      "source": [
        "# Manipulating tensors\n",
        "\n",
        "**Basic operations**\n",
        "\n",
        "+, - , *, /"
      ],
      "metadata": {
        "id": "Qu5Mr4XkD2B_"
      }
    },
    {
      "cell_type": "code",
      "source": [
        "# I can add values to a tensor using the addition operator\n",
        "tensor = tf.constant([[10,7], [3,4]])\n",
        "tensor + 10"
      ],
      "metadata": {
        "id": "_EiPNp70EClO",
        "colab": {
          "base_uri": "https://localhost:8080/"
        },
        "outputId": "41397a73-f01b-46d0-fbc0-cfccd618a8cc"
      },
      "execution_count": 39,
      "outputs": [
        {
          "output_type": "execute_result",
          "data": {
            "text/plain": [
              "<tf.Tensor: shape=(2, 2), dtype=int32, numpy=\n",
              "array([[20, 17],\n",
              "       [13, 14]], dtype=int32)>"
            ]
          },
          "metadata": {},
          "execution_count": 39
        }
      ]
    },
    {
      "cell_type": "code",
      "source": [
        "# But the original tensor remains unchanged\n",
        "tensor"
      ],
      "metadata": {
        "colab": {
          "base_uri": "https://localhost:8080/"
        },
        "id": "cD4SCqsLHaGr",
        "outputId": "1e8d31c0-b579-46c0-f473-b2330e63fd03"
      },
      "execution_count": 40,
      "outputs": [
        {
          "output_type": "execute_result",
          "data": {
            "text/plain": [
              "<tf.Tensor: shape=(2, 2), dtype=int32, numpy=\n",
              "array([[10,  7],\n",
              "       [ 3,  4]], dtype=int32)>"
            ]
          },
          "metadata": {},
          "execution_count": 40
        }
      ]
    },
    {
      "cell_type": "code",
      "source": [
        "# The only way to change it is to reassing\n",
        "tensor = tensor +10\n",
        "tensor"
      ],
      "metadata": {
        "colab": {
          "base_uri": "https://localhost:8080/"
        },
        "id": "iqFUophAHkD_",
        "outputId": "9c9af7e5-8044-4411-81c4-19b6448d3d81"
      },
      "execution_count": 41,
      "outputs": [
        {
          "output_type": "execute_result",
          "data": {
            "text/plain": [
              "<tf.Tensor: shape=(2, 2), dtype=int32, numpy=\n",
              "array([[20, 17],\n",
              "       [13, 14]], dtype=int32)>"
            ]
          },
          "metadata": {},
          "execution_count": 41
        }
      ]
    },
    {
      "cell_type": "code",
      "source": [
        "# Mutliplication of tensors\n",
        "tensor * 10"
      ],
      "metadata": {
        "colab": {
          "base_uri": "https://localhost:8080/"
        },
        "id": "2fHwoe-HHsbY",
        "outputId": "9b9cc02e-005d-47a3-9a93-c148f062c2ef"
      },
      "execution_count": 42,
      "outputs": [
        {
          "output_type": "execute_result",
          "data": {
            "text/plain": [
              "<tf.Tensor: shape=(2, 2), dtype=int32, numpy=\n",
              "array([[200, 170],\n",
              "       [130, 140]], dtype=int32)>"
            ]
          },
          "metadata": {},
          "execution_count": 42
        }
      ]
    },
    {
      "cell_type": "markdown",
      "source": [
        "`All operations work on tensors the same way mathematical operation work on matrices`"
      ],
      "metadata": {
        "id": "weu8824sHuGI"
      }
    },
    {
      "cell_type": "markdown",
      "source": [
        "## Matrix Multiplication\n",
        "\n",
        "In machine learning, matrix multiplication is one of the most common tensor operations\n",
        "\n",
        "There are two rules our tensors(or matrices) need to fulfill if we're going to multiply them:\n",
        "\n",
        "1. The inner dimensions must match\n",
        "2. The resulting matrix has the shape of the inner dimensions"
      ],
      "metadata": {
        "id": "gctOtvu0IB9g"
      }
    },
    {
      "cell_type": "code",
      "source": [
        "print(tensor)"
      ],
      "metadata": {
        "colab": {
          "base_uri": "https://localhost:8080/"
        },
        "id": "gNg0Qc5RI9ZV",
        "outputId": "5d860d86-1531-463b-ff54-7b312d5c2b6d"
      },
      "execution_count": 43,
      "outputs": [
        {
          "output_type": "stream",
          "name": "stdout",
          "text": [
            "tf.Tensor(\n",
            "[[20 17]\n",
            " [13 14]], shape=(2, 2), dtype=int32)\n"
          ]
        }
      ]
    },
    {
      "cell_type": "code",
      "source": [
        "tf.linalg.matmul(tensor, tensor)"
      ],
      "metadata": {
        "colab": {
          "base_uri": "https://localhost:8080/"
        },
        "id": "k0sCkP3aLhZ5",
        "outputId": "950da4af-9446-43e9-9f0c-b62289b9d83a"
      },
      "execution_count": 44,
      "outputs": [
        {
          "output_type": "execute_result",
          "data": {
            "text/plain": [
              "<tf.Tensor: shape=(2, 2), dtype=int32, numpy=\n",
              "array([[621, 578],\n",
              "       [442, 417]], dtype=int32)>"
            ]
          },
          "metadata": {},
          "execution_count": 44
        }
      ]
    },
    {
      "cell_type": "code",
      "source": [
        "A = tf.constant([[1,2,5],\n",
        "             [7,2,1],\n",
        "             [3,3,3]])\n",
        "B = tf.constant([[3,5],\n",
        "                 [6,7],\n",
        "                [1,8]])\n",
        "tf.linalg.matmul(A,B)"
      ],
      "metadata": {
        "colab": {
          "base_uri": "https://localhost:8080/"
        },
        "id": "wkil4aUCMRd9",
        "outputId": "529e2f0a-8575-46b8-8730-02deb32f73ec"
      },
      "execution_count": 45,
      "outputs": [
        {
          "output_type": "execute_result",
          "data": {
            "text/plain": [
              "<tf.Tensor: shape=(3, 2), dtype=int32, numpy=\n",
              "array([[20, 59],\n",
              "       [34, 57],\n",
              "       [30, 60]], dtype=int32)>"
            ]
          },
          "metadata": {},
          "execution_count": 45
        }
      ]
    },
    {
      "cell_type": "code",
      "source": [
        "# Matrix multiplication with python operator \"@\"\n",
        "C = A @ B\n",
        "C"
      ],
      "metadata": {
        "colab": {
          "base_uri": "https://localhost:8080/"
        },
        "id": "tDOaji6OLqU4",
        "outputId": "bec76939-0ff9-4e14-b7f6-cd35cbb32ce6"
      },
      "execution_count": 46,
      "outputs": [
        {
          "output_type": "execute_result",
          "data": {
            "text/plain": [
              "<tf.Tensor: shape=(3, 2), dtype=int32, numpy=\n",
              "array([[20, 59],\n",
              "       [34, 57],\n",
              "       [30, 60]], dtype=int32)>"
            ]
          },
          "metadata": {},
          "execution_count": 46
        }
      ]
    },
    {
      "cell_type": "code",
      "source": [
        "T = tf.reshape(B, shape=(2,3))\n",
        "T"
      ],
      "metadata": {
        "colab": {
          "base_uri": "https://localhost:8080/"
        },
        "id": "Ca1XrXjMNAXg",
        "outputId": "8315df22-22af-430f-ae9b-87ad84419319"
      },
      "execution_count": 47,
      "outputs": [
        {
          "output_type": "execute_result",
          "data": {
            "text/plain": [
              "<tf.Tensor: shape=(2, 3), dtype=int32, numpy=\n",
              "array([[3, 5, 6],\n",
              "       [7, 1, 8]], dtype=int32)>"
            ]
          },
          "metadata": {},
          "execution_count": 47
        }
      ]
    },
    {
      "cell_type": "markdown",
      "source": [
        "If  the matrices do not meet the standard rule for multiplication, we can use **tf.reshape(tensor, shape=(x,y))**"
      ],
      "metadata": {
        "id": "4uaXJp7iowvx"
      }
    },
    {
      "cell_type": "code",
      "source": [
        "B"
      ],
      "metadata": {
        "colab": {
          "base_uri": "https://localhost:8080/"
        },
        "id": "-9E2jjTKqWe5",
        "outputId": "9f892eae-8116-45c4-a76d-572f5399fc9d"
      },
      "execution_count": 48,
      "outputs": [
        {
          "output_type": "execute_result",
          "data": {
            "text/plain": [
              "<tf.Tensor: shape=(3, 2), dtype=int32, numpy=\n",
              "array([[3, 5],\n",
              "       [6, 7],\n",
              "       [1, 8]], dtype=int32)>"
            ]
          },
          "metadata": {},
          "execution_count": 48
        }
      ]
    },
    {
      "cell_type": "code",
      "source": [
        "B @ tf.reshape(B, shape=(2,3))"
      ],
      "metadata": {
        "colab": {
          "base_uri": "https://localhost:8080/"
        },
        "id": "Ckf1wLKM0IY-",
        "outputId": "476dc0d8-2bd2-48c2-df4d-695ed889ba9b"
      },
      "execution_count": 49,
      "outputs": [
        {
          "output_type": "execute_result",
          "data": {
            "text/plain": [
              "<tf.Tensor: shape=(3, 3), dtype=int32, numpy=\n",
              "array([[44, 20, 58],\n",
              "       [67, 37, 92],\n",
              "       [59, 13, 70]], dtype=int32)>"
            ]
          },
          "metadata": {},
          "execution_count": 49
        }
      ]
    },
    {
      "cell_type": "code",
      "source": [
        "# Using transpose\n",
        "tf.transpose(B), tf.reshape(B, shape=(2,3))"
      ],
      "metadata": {
        "colab": {
          "base_uri": "https://localhost:8080/"
        },
        "id": "Lv1_i28ZpDc9",
        "outputId": "0b2021d3-b872-4953-daee-b9c04a8ee7f1"
      },
      "execution_count": 50,
      "outputs": [
        {
          "output_type": "execute_result",
          "data": {
            "text/plain": [
              "(<tf.Tensor: shape=(2, 3), dtype=int32, numpy=\n",
              " array([[3, 6, 1],\n",
              "        [5, 7, 8]], dtype=int32)>,\n",
              " <tf.Tensor: shape=(2, 3), dtype=int32, numpy=\n",
              " array([[3, 5, 6],\n",
              "        [7, 1, 8]], dtype=int32)>)"
            ]
          },
          "metadata": {},
          "execution_count": 50
        }
      ]
    },
    {
      "cell_type": "code",
      "source": [
        "tf.transpose(B) @ B"
      ],
      "metadata": {
        "colab": {
          "base_uri": "https://localhost:8080/"
        },
        "id": "X3ekD1_YzyBd",
        "outputId": "0c0cb26c-d066-41a4-e784-77a62890e592"
      },
      "execution_count": 51,
      "outputs": [
        {
          "output_type": "execute_result",
          "data": {
            "text/plain": [
              "<tf.Tensor: shape=(2, 2), dtype=int32, numpy=\n",
              "array([[ 46,  65],\n",
              "       [ 65, 138]], dtype=int32)>"
            ]
          },
          "metadata": {},
          "execution_count": 51
        }
      ]
    },
    {
      "cell_type": "markdown",
      "source": [
        "As we can see, the difference betweeen transpose and reshape is that **transpose** flips the axis and **reshape** shuffles it"
      ],
      "metadata": {
        "id": "meagTrN8qLAO"
      }
    },
    {
      "cell_type": "markdown",
      "source": [
        "## Difference between reshape and transpose operators\n",
        "\n",
        "Modifying the shape of tensors is a very common operation in Deep Learning. For instance, when using pretrained neural networks it is often necessary to adjust the input data dimensions to correspond to what the network has been trained on, e.g. tensors of shape [batch_size, channels, width, height]\n",
        "\n",
        "Both allow you to change the shape, however they are not the same and are commonly mistaken."
      ],
      "metadata": {
        "id": "MqsI95QYzxPl"
      }
    },
    {
      "cell_type": "code",
      "source": [
        "pip install mxnet"
      ],
      "metadata": {
        "colab": {
          "base_uri": "https://localhost:8080/"
        },
        "id": "JdBbXACRte25",
        "outputId": "6a54670c-0713-4d68-b24e-29e662bd3c6b"
      },
      "execution_count": 52,
      "outputs": [
        {
          "output_type": "stream",
          "name": "stdout",
          "text": [
            "Collecting mxnet\n",
            "  Downloading mxnet-1.9.1-py3-none-manylinux2014_x86_64.whl (49.1 MB)\n",
            "\u001b[2K     \u001b[90m━━━━━━━━━━━━━━━━━━━━━━━━━━━━━━━━━━━━━━━━\u001b[0m \u001b[32m49.1/49.1 MB\u001b[0m \u001b[31m19.4 MB/s\u001b[0m eta \u001b[36m0:00:00\u001b[0m\n",
            "\u001b[?25hRequirement already satisfied: numpy<2.0.0,>1.16.0 in /usr/local/lib/python3.10/dist-packages (from mxnet) (1.22.4)\n",
            "Requirement already satisfied: requests<3,>=2.20.0 in /usr/local/lib/python3.10/dist-packages (from mxnet) (2.27.1)\n",
            "Collecting graphviz<0.9.0,>=0.8.1 (from mxnet)\n",
            "  Downloading graphviz-0.8.4-py2.py3-none-any.whl (16 kB)\n",
            "Requirement already satisfied: urllib3<1.27,>=1.21.1 in /usr/local/lib/python3.10/dist-packages (from requests<3,>=2.20.0->mxnet) (1.26.16)\n",
            "Requirement already satisfied: certifi>=2017.4.17 in /usr/local/lib/python3.10/dist-packages (from requests<3,>=2.20.0->mxnet) (2023.5.7)\n",
            "Requirement already satisfied: charset-normalizer~=2.0.0 in /usr/local/lib/python3.10/dist-packages (from requests<3,>=2.20.0->mxnet) (2.0.12)\n",
            "Requirement already satisfied: idna<4,>=2.5 in /usr/local/lib/python3.10/dist-packages (from requests<3,>=2.20.0->mxnet) (3.4)\n",
            "Installing collected packages: graphviz, mxnet\n",
            "  Attempting uninstall: graphviz\n",
            "    Found existing installation: graphviz 0.20.1\n",
            "    Uninstalling graphviz-0.20.1:\n",
            "      Successfully uninstalled graphviz-0.20.1\n",
            "Successfully installed graphviz-0.8.4 mxnet-1.9.1\n"
          ]
        }
      ]
    },
    {
      "cell_type": "code",
      "source": [
        "import matplotlib.pyplot as plt\n",
        "import matplotlib.image as image\n",
        "import mxnet as mx\n",
        "from mxnet import gluon\n",
        "import numpy as np"
      ],
      "metadata": {
        "id": "TKC2bE-EtGAn"
      },
      "execution_count": 53,
      "outputs": []
    },
    {
      "cell_type": "code",
      "source": [
        "img_array = image.imread('/content/cat.png')\n",
        "plt.imshow(img_array)\n",
        "plt.axis(\"off\")\n",
        "print (img_array.shape)"
      ],
      "metadata": {
        "colab": {
          "base_uri": "https://localhost:8080/",
          "height": 363
        },
        "id": "xKnqLgLItNzz",
        "outputId": "85ff1bdb-6d24-48ca-e27a-c926e8c1717c"
      },
      "execution_count": 54,
      "outputs": [
        {
          "output_type": "error",
          "ename": "FileNotFoundError",
          "evalue": "ignored",
          "traceback": [
            "\u001b[0;31m---------------------------------------------------------------------------\u001b[0m",
            "\u001b[0;31mFileNotFoundError\u001b[0m                         Traceback (most recent call last)",
            "\u001b[0;32m<ipython-input-54-c57257156b27>\u001b[0m in \u001b[0;36m<cell line: 1>\u001b[0;34m()\u001b[0m\n\u001b[0;32m----> 1\u001b[0;31m \u001b[0mimg_array\u001b[0m \u001b[0;34m=\u001b[0m \u001b[0mimage\u001b[0m\u001b[0;34m.\u001b[0m\u001b[0mimread\u001b[0m\u001b[0;34m(\u001b[0m\u001b[0;34m'/content/cat.png'\u001b[0m\u001b[0;34m)\u001b[0m\u001b[0;34m\u001b[0m\u001b[0;34m\u001b[0m\u001b[0m\n\u001b[0m\u001b[1;32m      2\u001b[0m \u001b[0mplt\u001b[0m\u001b[0;34m.\u001b[0m\u001b[0mimshow\u001b[0m\u001b[0;34m(\u001b[0m\u001b[0mimg_array\u001b[0m\u001b[0;34m)\u001b[0m\u001b[0;34m\u001b[0m\u001b[0;34m\u001b[0m\u001b[0m\n\u001b[1;32m      3\u001b[0m \u001b[0mplt\u001b[0m\u001b[0;34m.\u001b[0m\u001b[0maxis\u001b[0m\u001b[0;34m(\u001b[0m\u001b[0;34m\"off\"\u001b[0m\u001b[0;34m)\u001b[0m\u001b[0;34m\u001b[0m\u001b[0;34m\u001b[0m\u001b[0m\n\u001b[1;32m      4\u001b[0m \u001b[0mprint\u001b[0m \u001b[0;34m(\u001b[0m\u001b[0mimg_array\u001b[0m\u001b[0;34m.\u001b[0m\u001b[0mshape\u001b[0m\u001b[0;34m)\u001b[0m\u001b[0;34m\u001b[0m\u001b[0;34m\u001b[0m\u001b[0m\n",
            "\u001b[0;32m/usr/local/lib/python3.10/dist-packages/matplotlib/image.py\u001b[0m in \u001b[0;36mimread\u001b[0;34m(fname, format)\u001b[0m\n\u001b[1;32m   1561\u001b[0m             \u001b[0;34m\"``np.array(PIL.Image.open(urllib.request.urlopen(url)))``.\"\u001b[0m\u001b[0;34m\u001b[0m\u001b[0;34m\u001b[0m\u001b[0m\n\u001b[1;32m   1562\u001b[0m             )\n\u001b[0;32m-> 1563\u001b[0;31m     \u001b[0;32mwith\u001b[0m \u001b[0mimg_open\u001b[0m\u001b[0;34m(\u001b[0m\u001b[0mfname\u001b[0m\u001b[0;34m)\u001b[0m \u001b[0;32mas\u001b[0m \u001b[0mimage\u001b[0m\u001b[0;34m:\u001b[0m\u001b[0;34m\u001b[0m\u001b[0;34m\u001b[0m\u001b[0m\n\u001b[0m\u001b[1;32m   1564\u001b[0m         return (_pil_png_to_float_array(image)\n\u001b[1;32m   1565\u001b[0m                 \u001b[0;32mif\u001b[0m \u001b[0misinstance\u001b[0m\u001b[0;34m(\u001b[0m\u001b[0mimage\u001b[0m\u001b[0;34m,\u001b[0m \u001b[0mPIL\u001b[0m\u001b[0;34m.\u001b[0m\u001b[0mPngImagePlugin\u001b[0m\u001b[0;34m.\u001b[0m\u001b[0mPngImageFile\u001b[0m\u001b[0;34m)\u001b[0m \u001b[0;32melse\u001b[0m\u001b[0;34m\u001b[0m\u001b[0;34m\u001b[0m\u001b[0m\n",
            "\u001b[0;32m/usr/local/lib/python3.10/dist-packages/PIL/ImageFile.py\u001b[0m in \u001b[0;36m__init__\u001b[0;34m(self, fp, filename)\u001b[0m\n\u001b[1;32m    107\u001b[0m         \u001b[0;32mif\u001b[0m \u001b[0misPath\u001b[0m\u001b[0;34m(\u001b[0m\u001b[0mfp\u001b[0m\u001b[0;34m)\u001b[0m\u001b[0;34m:\u001b[0m\u001b[0;34m\u001b[0m\u001b[0;34m\u001b[0m\u001b[0m\n\u001b[1;32m    108\u001b[0m             \u001b[0;31m# filename\u001b[0m\u001b[0;34m\u001b[0m\u001b[0;34m\u001b[0m\u001b[0m\n\u001b[0;32m--> 109\u001b[0;31m             \u001b[0mself\u001b[0m\u001b[0;34m.\u001b[0m\u001b[0mfp\u001b[0m \u001b[0;34m=\u001b[0m \u001b[0mopen\u001b[0m\u001b[0;34m(\u001b[0m\u001b[0mfp\u001b[0m\u001b[0;34m,\u001b[0m \u001b[0;34m\"rb\"\u001b[0m\u001b[0;34m)\u001b[0m\u001b[0;34m\u001b[0m\u001b[0;34m\u001b[0m\u001b[0m\n\u001b[0m\u001b[1;32m    110\u001b[0m             \u001b[0mself\u001b[0m\u001b[0;34m.\u001b[0m\u001b[0mfilename\u001b[0m \u001b[0;34m=\u001b[0m \u001b[0mfp\u001b[0m\u001b[0;34m\u001b[0m\u001b[0;34m\u001b[0m\u001b[0m\n\u001b[1;32m    111\u001b[0m             \u001b[0mself\u001b[0m\u001b[0;34m.\u001b[0m\u001b[0m_exclusive_fp\u001b[0m \u001b[0;34m=\u001b[0m \u001b[0;32mTrue\u001b[0m\u001b[0;34m\u001b[0m\u001b[0;34m\u001b[0m\u001b[0m\n",
            "\u001b[0;31mFileNotFoundError\u001b[0m: [Errno 2] No such file or directory: '/content/cat.png'"
          ]
        }
      ]
    },
    {
      "cell_type": "markdown",
      "source": [
        "The color image has the following properties:\n",
        "\n",
        "width: 210 pixels\n",
        "\n",
        "height: 157 pixels\n",
        "\n",
        "colors: 3 (RGB)\n",
        "\n",
        "Now let’s reshape the image in order to exchange width and height dimensions."
      ],
      "metadata": {
        "id": "tkTCQs1htv9t"
      }
    },
    {
      "cell_type": "code",
      "source": [
        "reshaped = img_array.reshape((210,157,3))\n",
        "print (reshaped.shape)\n",
        "plt.imshow(reshaped)\n",
        "plt.axis(\"off\")"
      ],
      "metadata": {
        "id": "RvIH45CxX4FA"
      },
      "execution_count": null,
      "outputs": []
    },
    {
      "cell_type": "markdown",
      "source": [
        "As we can see the first and second dimensions have changed. However the image can’t be identified as cat any longer. In order to understand what happened, let’s have a look at the image below.\n",
        "![reshape.png](data:image/png;base64,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)\n",
        "While the number of rows and columns changed, the layout of the underlying data did not. The pixel values that have been in one row are still in one row. This means for instance that pixel 10 in the upper right corner ends up in the middle of the image instead of the lower left corner. Consequently contextual information gets lost, because the relative position of pixel values is not the same anymore. As one can imagine a neural network would not be able to classify such an image as cat.\n",
        "\n",
        "**Transpose** instead changes the layout of the underlying data.\n",
        "\n"
      ],
      "metadata": {
        "id": "s5OreZ7DYDLP"
      }
    },
    {
      "cell_type": "code",
      "source": [
        "transposed = img_array.transpose((1,0,2))\n",
        "plt.imshow(transposed)\n",
        "plt.axis(\"off\")"
      ],
      "metadata": {
        "id": "tAY6IBR9YmiT"
      },
      "execution_count": null,
      "outputs": []
    },
    {
      "cell_type": "markdown",
      "source": [
        "As we can see width and height changed, by rotating pixel values by 90 degrees. Transpose does the following:\n",
        "\n",
        "![transpose.png](data:image/png;base64,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)\n",
        "\n",
        "As shown in the diagram, the axes have been flipped: pixel values that were in the first row are now in the first column.\n",
        "\n"
      ],
      "metadata": {
        "id": "7WiB7N3eYziC"
      }
    },
    {
      "cell_type": "markdown",
      "source": [
        "**The Dot Product**\n",
        "\n",
        "Matrix multiplication is also referred to as the dot product.\n",
        "\n",
        "So far I've learnt that I can perform matrix multiplication using:\n",
        "* `tf.matmul()`\n",
        "* `tf.tensordot()`"
      ],
      "metadata": {
        "id": "4GI8NvctZw3b"
      }
    },
    {
      "cell_type": "code",
      "source": [
        "A, B"
      ],
      "metadata": {
        "colab": {
          "base_uri": "https://localhost:8080/"
        },
        "id": "t-UUOZ9Fa3dY",
        "outputId": "7ffcd59f-c369-469a-bd3d-7464ba03c5f1"
      },
      "execution_count": 55,
      "outputs": [
        {
          "output_type": "execute_result",
          "data": {
            "text/plain": [
              "(<tf.Tensor: shape=(3, 3), dtype=int32, numpy=\n",
              " array([[1, 2, 5],\n",
              "        [7, 2, 1],\n",
              "        [3, 3, 3]], dtype=int32)>,\n",
              " <tf.Tensor: shape=(3, 2), dtype=int32, numpy=\n",
              " array([[3, 5],\n",
              "        [6, 7],\n",
              "        [1, 8]], dtype=int32)>)"
            ]
          },
          "metadata": {},
          "execution_count": 55
        }
      ]
    },
    {
      "cell_type": "code",
      "source": [
        "# Perform the dot product on A and B (requires A and B to be transposed)\n",
        "tf.tensordot(A,B, axes=0)"
      ],
      "metadata": {
        "colab": {
          "base_uri": "https://localhost:8080/"
        },
        "id": "LVCJBCW9akAi",
        "outputId": "46aaa439-6974-468a-d6a0-5765fd672fe1"
      },
      "execution_count": 56,
      "outputs": [
        {
          "output_type": "execute_result",
          "data": {
            "text/plain": [
              "<tf.Tensor: shape=(3, 3, 3, 2), dtype=int32, numpy=\n",
              "array([[[[ 3,  5],\n",
              "         [ 6,  7],\n",
              "         [ 1,  8]],\n",
              "\n",
              "        [[ 6, 10],\n",
              "         [12, 14],\n",
              "         [ 2, 16]],\n",
              "\n",
              "        [[15, 25],\n",
              "         [30, 35],\n",
              "         [ 5, 40]]],\n",
              "\n",
              "\n",
              "       [[[21, 35],\n",
              "         [42, 49],\n",
              "         [ 7, 56]],\n",
              "\n",
              "        [[ 6, 10],\n",
              "         [12, 14],\n",
              "         [ 2, 16]],\n",
              "\n",
              "        [[ 3,  5],\n",
              "         [ 6,  7],\n",
              "         [ 1,  8]]],\n",
              "\n",
              "\n",
              "       [[[ 9, 15],\n",
              "         [18, 21],\n",
              "         [ 3, 24]],\n",
              "\n",
              "        [[ 9, 15],\n",
              "         [18, 21],\n",
              "         [ 3, 24]],\n",
              "\n",
              "        [[ 9, 15],\n",
              "         [18, 21],\n",
              "         [ 3, 24]]]], dtype=int32)>"
            ]
          },
          "metadata": {},
          "execution_count": 56
        }
      ]
    },
    {
      "cell_type": "code",
      "source": [
        "X = tf.constant([[1, 2],\n",
        "                 [3, 4],\n",
        "                 [5, 6]])\n",
        "Y = tf.constant([[7, 8],\n",
        "                 [9, 10],\n",
        "                 [11, 12]])"
      ],
      "metadata": {
        "id": "Lbg5_bbFa6WR"
      },
      "execution_count": 57,
      "outputs": []
    },
    {
      "cell_type": "code",
      "source": [
        "tf.tensordot(tf.transpose(X), Y, axes=1)"
      ],
      "metadata": {
        "colab": {
          "base_uri": "https://localhost:8080/"
        },
        "id": "xqjag47gcc5E",
        "outputId": "9937ffa8-4f0b-4d51-e666-94bc86ae60f6"
      },
      "execution_count": 58,
      "outputs": [
        {
          "output_type": "execute_result",
          "data": {
            "text/plain": [
              "<tf.Tensor: shape=(2, 2), dtype=int32, numpy=\n",
              "array([[ 89,  98],\n",
              "       [116, 128]], dtype=int32)>"
            ]
          },
          "metadata": {},
          "execution_count": 58
        }
      ]
    },
    {
      "cell_type": "code",
      "source": [
        "# Perform matrix multiplication between X and Y(transposed)\n",
        "tf.matmul(X, tf.transpose(Y))"
      ],
      "metadata": {
        "colab": {
          "base_uri": "https://localhost:8080/"
        },
        "id": "EsZ4_tTFclZR",
        "outputId": "9ffb4e30-3f89-49f9-d031-11d0e9a7532d"
      },
      "execution_count": 59,
      "outputs": [
        {
          "output_type": "execute_result",
          "data": {
            "text/plain": [
              "<tf.Tensor: shape=(3, 3), dtype=int32, numpy=\n",
              "array([[ 23,  29,  35],\n",
              "       [ 53,  67,  81],\n",
              "       [ 83, 105, 127]], dtype=int32)>"
            ]
          },
          "metadata": {},
          "execution_count": 59
        }
      ]
    },
    {
      "cell_type": "code",
      "source": [
        "# Perform matrix multiplication between X and Y(reshaped)\n",
        "tf.matmul(X, tf.reshape(Y, shape=(2,3)))"
      ],
      "metadata": {
        "colab": {
          "base_uri": "https://localhost:8080/"
        },
        "id": "RarQgIjvdFYY",
        "outputId": "b695bcd2-8b51-441a-9c2e-d8f798ff72a7"
      },
      "execution_count": 60,
      "outputs": [
        {
          "output_type": "execute_result",
          "data": {
            "text/plain": [
              "<tf.Tensor: shape=(3, 3), dtype=int32, numpy=\n",
              "array([[ 27,  30,  33],\n",
              "       [ 61,  68,  75],\n",
              "       [ 95, 106, 117]], dtype=int32)>"
            ]
          },
          "metadata": {},
          "execution_count": 60
        }
      ]
    },
    {
      "cell_type": "code",
      "source": [
        "# Check the values of Y and transposed Y\n",
        "print(\"Normal Y:\")\n",
        "print(Y, \"/n\")\n",
        "\n",
        "print(\"Y reshaped to (2,3)\")\n",
        "print(tf.reshape(Y, shape=(2,3)), 'n')\n",
        "\n",
        "print(\"Y transposed: \")\n",
        "print(tf.transpose(Y))\n"
      ],
      "metadata": {
        "colab": {
          "base_uri": "https://localhost:8080/"
        },
        "id": "cqn11vYadWTz",
        "outputId": "80bdae87-cfc9-435d-ac08-d9113c7a8261"
      },
      "execution_count": 61,
      "outputs": [
        {
          "output_type": "stream",
          "name": "stdout",
          "text": [
            "Normal Y:\n",
            "tf.Tensor(\n",
            "[[ 7  8]\n",
            " [ 9 10]\n",
            " [11 12]], shape=(3, 2), dtype=int32) /n\n",
            "Y reshaped to (2,3)\n",
            "tf.Tensor(\n",
            "[[ 7  8  9]\n",
            " [10 11 12]], shape=(2, 3), dtype=int32) n\n",
            "Y transposed: \n",
            "tf.Tensor(\n",
            "[[ 7  9 11]\n",
            " [ 8 10 12]], shape=(2, 3), dtype=int32)\n"
          ]
        }
      ]
    },
    {
      "cell_type": "code",
      "source": [
        "tf.matmul(X, tf.transpose(Y))"
      ],
      "metadata": {
        "colab": {
          "base_uri": "https://localhost:8080/"
        },
        "id": "-EDs_JD1eTTl",
        "outputId": "15c18ccc-a373-4e29-fbde-c45c36846e6c"
      },
      "execution_count": 62,
      "outputs": [
        {
          "output_type": "execute_result",
          "data": {
            "text/plain": [
              "<tf.Tensor: shape=(3, 3), dtype=int32, numpy=\n",
              "array([[ 23,  29,  35],\n",
              "       [ 53,  67,  81],\n",
              "       [ 83, 105, 127]], dtype=int32)>"
            ]
          },
          "metadata": {},
          "execution_count": 62
        }
      ]
    },
    {
      "cell_type": "markdown",
      "source": [
        "Generally when performing matrix multiplication on two tensors and one of the axes does'nt line up you wil transpose rather than reshape to satisfy the mutliplication rules"
      ],
      "metadata": {
        "id": "L3RTcaZpe9XS"
      }
    },
    {
      "cell_type": "markdown",
      "source": [
        "# Changing the data type of a tensor"
      ],
      "metadata": {
        "id": "loT_2ia0fbJN"
      }
    },
    {
      "cell_type": "code",
      "source": [
        "# Create a new tensor with defaul datatype (float32)\n",
        "D = tf.constant([[1.7, 7.4]])\n",
        "D.dtype"
      ],
      "metadata": {
        "colab": {
          "base_uri": "https://localhost:8080/"
        },
        "id": "oo5Nz9y2fnob",
        "outputId": "ca2c7231-6ab3-407b-b0ee-307bdf096e50"
      },
      "execution_count": 63,
      "outputs": [
        {
          "output_type": "execute_result",
          "data": {
            "text/plain": [
              "tf.float32"
            ]
          },
          "metadata": {},
          "execution_count": 63
        }
      ]
    },
    {
      "cell_type": "code",
      "source": [
        "E = tf.constant([10, 8])\n",
        "E.dtype"
      ],
      "metadata": {
        "colab": {
          "base_uri": "https://localhost:8080/"
        },
        "id": "GMnpI5zlgDxy",
        "outputId": "7ecbca5f-9c2e-4132-8ea2-3fdae9e6c439"
      },
      "execution_count": 64,
      "outputs": [
        {
          "output_type": "execute_result",
          "data": {
            "text/plain": [
              "tf.int32"
            ]
          },
          "metadata": {},
          "execution_count": 64
        }
      ]
    },
    {
      "cell_type": "code",
      "source": [
        "# Changing from float32 to float16\n",
        "F = tf.cast(D, dtype=tf.float16)\n",
        "F, F.dtype\n"
      ],
      "metadata": {
        "colab": {
          "base_uri": "https://localhost:8080/"
        },
        "id": "UmwTpzYFgLc8",
        "outputId": "85f32ac4-1480-426e-e37d-409890757a42"
      },
      "execution_count": 65,
      "outputs": [
        {
          "output_type": "execute_result",
          "data": {
            "text/plain": [
              "(<tf.Tensor: shape=(1, 2), dtype=float16, numpy=array([[1.7, 7.4]], dtype=float16)>,\n",
              " tf.float16)"
            ]
          },
          "metadata": {},
          "execution_count": 65
        }
      ]
    },
    {
      "cell_type": "code",
      "source": [
        "# Changing from int32 to float32\n",
        "G = tf.cast(E, dtype=tf.float16)\n",
        "G, G.dtype"
      ],
      "metadata": {
        "colab": {
          "base_uri": "https://localhost:8080/"
        },
        "id": "ys-FHSXHhL5e",
        "outputId": "7bc29f37-6320-476c-9747-5991e9a27a12"
      },
      "execution_count": 66,
      "outputs": [
        {
          "output_type": "execute_result",
          "data": {
            "text/plain": [
              "(<tf.Tensor: shape=(2,), dtype=float16, numpy=array([10.,  8.], dtype=float16)>,\n",
              " tf.float16)"
            ]
          },
          "metadata": {},
          "execution_count": 66
        }
      ]
    },
    {
      "cell_type": "markdown",
      "source": [
        "# Aggregating tensors\n",
        "\n",
        "Aggregating tensors is a crucial operation that involves reducing multiple values into a single value by applying functions such as sum, mean, or maximum. TensorFlow provides convenient methods to perform tensor aggregation, allowing us to obtain useful summary statistics or consolidate information from multiple elements.\n",
        "\n",
        "By applying aggregation functions to tensors, we can extract valuable insights and make informed decisions about the data."
      ],
      "metadata": {
        "id": "XTAiP9C5hpNk"
      }
    },
    {
      "cell_type": "code",
      "source": [
        "# Get the absolute values\n",
        "D = tf.constant([-7, -10])\n",
        "tf.abs(D)"
      ],
      "metadata": {
        "colab": {
          "base_uri": "https://localhost:8080/"
        },
        "id": "9G1Z-TpzYAXJ",
        "outputId": "c93fdcd0-146c-4607-ddc3-70c736a0859c"
      },
      "execution_count": 67,
      "outputs": [
        {
          "output_type": "execute_result",
          "data": {
            "text/plain": [
              "<tf.Tensor: shape=(2,), dtype=int32, numpy=array([ 7, 10], dtype=int32)>"
            ]
          },
          "metadata": {},
          "execution_count": 67
        }
      ]
    },
    {
      "cell_type": "markdown",
      "source": [
        "Let's go through the following forms of aggregation:\n",
        "\n",
        "* Get the minimum\n",
        "* Get the maximum\n",
        "* Get the mean of a tensor\n",
        "* Get the sum of a tensor"
      ],
      "metadata": {
        "id": "M1eI53myZcjD"
      }
    },
    {
      "cell_type": "code",
      "source": [
        "# Find the minimum\n",
        "tf.reduce_min(X)"
      ],
      "metadata": {
        "colab": {
          "base_uri": "https://localhost:8080/"
        },
        "id": "adLNLAmXZzeE",
        "outputId": "acda3096-c8b2-492e-8f28-c1d642b83a1b"
      },
      "execution_count": 68,
      "outputs": [
        {
          "output_type": "execute_result",
          "data": {
            "text/plain": [
              "<tf.Tensor: shape=(), dtype=int32, numpy=1>"
            ]
          },
          "metadata": {},
          "execution_count": 68
        }
      ]
    },
    {
      "cell_type": "code",
      "source": [
        "# Find the maximum\n",
        "tf.reduce_max(tf.matmul(X, tf.transpose(Y)))"
      ],
      "metadata": {
        "colab": {
          "base_uri": "https://localhost:8080/"
        },
        "id": "p11ZZyIYZ23T",
        "outputId": "6fe7393d-30cf-4530-f991-15a8e222eab3"
      },
      "execution_count": 69,
      "outputs": [
        {
          "output_type": "execute_result",
          "data": {
            "text/plain": [
              "<tf.Tensor: shape=(), dtype=int32, numpy=127>"
            ]
          },
          "metadata": {},
          "execution_count": 69
        }
      ]
    },
    {
      "cell_type": "code",
      "source": [
        "# Find the variance\n",
        "tf.reduce_var(Y)"
      ],
      "metadata": {
        "colab": {
          "base_uri": "https://localhost:8080/",
          "height": 183
        },
        "id": "P2ac2ZDJcC2v",
        "outputId": "40bd436f-4154-4ff5-b05b-604a617d9dfd"
      },
      "execution_count": 70,
      "outputs": [
        {
          "output_type": "error",
          "ename": "AttributeError",
          "evalue": "ignored",
          "traceback": [
            "\u001b[0;31m---------------------------------------------------------------------------\u001b[0m",
            "\u001b[0;31mAttributeError\u001b[0m                            Traceback (most recent call last)",
            "\u001b[0;32m<ipython-input-70-aaaa67cc47bc>\u001b[0m in \u001b[0;36m<cell line: 2>\u001b[0;34m()\u001b[0m\n\u001b[1;32m      1\u001b[0m \u001b[0;31m# Find the variance\u001b[0m\u001b[0;34m\u001b[0m\u001b[0;34m\u001b[0m\u001b[0m\n\u001b[0;32m----> 2\u001b[0;31m \u001b[0mtf\u001b[0m\u001b[0;34m.\u001b[0m\u001b[0mreduce_var\u001b[0m\u001b[0;34m(\u001b[0m\u001b[0mY\u001b[0m\u001b[0;34m)\u001b[0m\u001b[0;34m\u001b[0m\u001b[0;34m\u001b[0m\u001b[0m\n\u001b[0m",
            "\u001b[0;31mAttributeError\u001b[0m: module 'tensorflow' has no attribute 'reduce_var'"
          ]
        }
      ]
    },
    {
      "cell_type": "markdown",
      "source": [
        "**Solutions to the problem**\n",
        "\n",
        "The above method does'nt work, there are 2 ways to go about it.\n",
        "\n",
        "1. Using the tensorflow_probablity\n",
        "2. Converting the data type into real of complex"
      ],
      "metadata": {
        "id": "yE9tMyVlca00"
      }
    },
    {
      "cell_type": "code",
      "source": [
        "# Option 1 : Using tensorflow probability\n",
        "import tensorflow_probability as tfp\n",
        "tfp.stats.variance(Y)"
      ],
      "metadata": {
        "id": "jNtznbVUiItG"
      },
      "execution_count": null,
      "outputs": []
    },
    {
      "cell_type": "code",
      "source": [
        "# Option 2: Converting the datatype into real or complex using tf.cast\n",
        "tf.math.reduce_std(tf.cast(Y, dtype=tf.float32))"
      ],
      "metadata": {
        "id": "uVnqnYziaYuG"
      },
      "execution_count": null,
      "outputs": []
    },
    {
      "cell_type": "markdown",
      "source": [
        "**Find the positional maximam and minimum of a tensor**\n",
        "\n"
      ],
      "metadata": {
        "id": "_r_lJkx7bUk_"
      }
    },
    {
      "cell_type": "code",
      "source": [
        "# Create a  new tensor for finding positional max and min\n",
        "tf.random.set_seed(42)\n",
        "F = tf.random.uniform(shape=[50])\n",
        "F"
      ],
      "metadata": {
        "colab": {
          "base_uri": "https://localhost:8080/"
        },
        "id": "bPRjtYlin7N1",
        "outputId": "4d7ea61c-5aef-4638-9a21-392482e59e60"
      },
      "execution_count": 71,
      "outputs": [
        {
          "output_type": "execute_result",
          "data": {
            "text/plain": [
              "<tf.Tensor: shape=(50,), dtype=float32, numpy=\n",
              "array([0.6645621 , 0.44100678, 0.3528825 , 0.46448255, 0.03366041,\n",
              "       0.68467236, 0.74011743, 0.8724445 , 0.22632635, 0.22319686,\n",
              "       0.3103881 , 0.7223358 , 0.13318717, 0.5480639 , 0.5746088 ,\n",
              "       0.8996835 , 0.00946367, 0.5212307 , 0.6345445 , 0.1993283 ,\n",
              "       0.72942245, 0.54583454, 0.10756552, 0.6767061 , 0.6602763 ,\n",
              "       0.33695042, 0.60141766, 0.21062577, 0.8527372 , 0.44062173,\n",
              "       0.9485276 , 0.23752594, 0.81179297, 0.5263394 , 0.494308  ,\n",
              "       0.21612847, 0.8457197 , 0.8718841 , 0.3083862 , 0.6868038 ,\n",
              "       0.23764038, 0.7817228 , 0.9671384 , 0.06870162, 0.79873943,\n",
              "       0.66028714, 0.5871513 , 0.16461694, 0.7381023 , 0.32054043],\n",
              "      dtype=float32)>"
            ]
          },
          "metadata": {},
          "execution_count": 71
        }
      ]
    },
    {
      "cell_type": "code",
      "source": [
        "# Find the positionsl argmax\n",
        "tf.argmax(F)"
      ],
      "metadata": {
        "colab": {
          "base_uri": "https://localhost:8080/"
        },
        "id": "1rbWwB9zoSr8",
        "outputId": "dbafdcb9-d5c6-455d-e003-fd8d1552a8a1"
      },
      "execution_count": 72,
      "outputs": [
        {
          "output_type": "execute_result",
          "data": {
            "text/plain": [
              "<tf.Tensor: shape=(), dtype=int64, numpy=42>"
            ]
          },
          "metadata": {},
          "execution_count": 72
        }
      ]
    },
    {
      "cell_type": "code",
      "source": [
        "F[tf.argmax(F)]"
      ],
      "metadata": {
        "colab": {
          "base_uri": "https://localhost:8080/"
        },
        "id": "-7s7DgVYqHXl",
        "outputId": "40eec541-c299-4c12-99f3-3cc5107cbfef"
      },
      "execution_count": 73,
      "outputs": [
        {
          "output_type": "execute_result",
          "data": {
            "text/plain": [
              "<tf.Tensor: shape=(), dtype=float32, numpy=0.9671384>"
            ]
          },
          "metadata": {},
          "execution_count": 73
        }
      ]
    },
    {
      "cell_type": "code",
      "source": [
        "# Find the positional argmin\n",
        "tf.argmin(F), F[tf.argmin(F)]"
      ],
      "metadata": {
        "colab": {
          "base_uri": "https://localhost:8080/"
        },
        "id": "_6AcHv-lp09Z",
        "outputId": "99b1dac8-738c-43e2-e41f-849ec08ad129"
      },
      "execution_count": 74,
      "outputs": [
        {
          "output_type": "execute_result",
          "data": {
            "text/plain": [
              "(<tf.Tensor: shape=(), dtype=int64, numpy=16>,\n",
              " <tf.Tensor: shape=(), dtype=float32, numpy=0.009463668>)"
            ]
          },
          "metadata": {},
          "execution_count": 74
        }
      ]
    },
    {
      "cell_type": "code",
      "source": [
        "F[tf.argmax(F)] == tf.reduce_max(F)"
      ],
      "metadata": {
        "colab": {
          "base_uri": "https://localhost:8080/"
        },
        "id": "FrfraLAOqOhb",
        "outputId": "3d8becc6-49f8-46bc-ae6e-701497571026"
      },
      "execution_count": 75,
      "outputs": [
        {
          "output_type": "execute_result",
          "data": {
            "text/plain": [
              "<tf.Tensor: shape=(), dtype=bool, numpy=True>"
            ]
          },
          "metadata": {},
          "execution_count": 75
        }
      ]
    },
    {
      "cell_type": "markdown",
      "source": [
        "# Squeezing a tensor (removing all single dimensions)"
      ],
      "metadata": {
        "id": "g89fylV1qaeM"
      }
    },
    {
      "cell_type": "code",
      "source": [
        "# Creating a tensor to get started\n",
        "tf.random.set_seed(42)\n",
        "G = tf.constant(tf.random.uniform(shape=[50]), shape=(1,1,1,1, 50))\n",
        "G"
      ],
      "metadata": {
        "colab": {
          "base_uri": "https://localhost:8080/"
        },
        "id": "A2pDmuPbq_oU",
        "outputId": "6db30d07-4162-459a-faf9-ec201cddbb34"
      },
      "execution_count": 76,
      "outputs": [
        {
          "output_type": "execute_result",
          "data": {
            "text/plain": [
              "<tf.Tensor: shape=(1, 1, 1, 1, 50), dtype=float32, numpy=\n",
              "array([[[[[0.6645621 , 0.44100678, 0.3528825 , 0.46448255, 0.03366041,\n",
              "           0.68467236, 0.74011743, 0.8724445 , 0.22632635, 0.22319686,\n",
              "           0.3103881 , 0.7223358 , 0.13318717, 0.5480639 , 0.5746088 ,\n",
              "           0.8996835 , 0.00946367, 0.5212307 , 0.6345445 , 0.1993283 ,\n",
              "           0.72942245, 0.54583454, 0.10756552, 0.6767061 , 0.6602763 ,\n",
              "           0.33695042, 0.60141766, 0.21062577, 0.8527372 , 0.44062173,\n",
              "           0.9485276 , 0.23752594, 0.81179297, 0.5263394 , 0.494308  ,\n",
              "           0.21612847, 0.8457197 , 0.8718841 , 0.3083862 , 0.6868038 ,\n",
              "           0.23764038, 0.7817228 , 0.9671384 , 0.06870162, 0.79873943,\n",
              "           0.66028714, 0.5871513 , 0.16461694, 0.7381023 , 0.32054043]]]]],\n",
              "      dtype=float32)>"
            ]
          },
          "metadata": {},
          "execution_count": 76
        }
      ]
    },
    {
      "cell_type": "code",
      "source": [
        "G.shape"
      ],
      "metadata": {
        "colab": {
          "base_uri": "https://localhost:8080/"
        },
        "id": "PQ740kggrSup",
        "outputId": "b497235c-8263-470b-d8d7-8f88d6c7b14e"
      },
      "execution_count": 77,
      "outputs": [
        {
          "output_type": "execute_result",
          "data": {
            "text/plain": [
              "TensorShape([1, 1, 1, 1, 50])"
            ]
          },
          "metadata": {},
          "execution_count": 77
        }
      ]
    },
    {
      "cell_type": "code",
      "source": [
        "G_squeezed = tf.squeeze(G)\n",
        "G_squeezed, G_squeezed.shape"
      ],
      "metadata": {
        "colab": {
          "base_uri": "https://localhost:8080/"
        },
        "id": "ibR_la7Urr2Y",
        "outputId": "c5895088-3ead-471e-e1e7-a6f0f5d52c6c"
      },
      "execution_count": 78,
      "outputs": [
        {
          "output_type": "execute_result",
          "data": {
            "text/plain": [
              "(<tf.Tensor: shape=(50,), dtype=float32, numpy=\n",
              " array([0.6645621 , 0.44100678, 0.3528825 , 0.46448255, 0.03366041,\n",
              "        0.68467236, 0.74011743, 0.8724445 , 0.22632635, 0.22319686,\n",
              "        0.3103881 , 0.7223358 , 0.13318717, 0.5480639 , 0.5746088 ,\n",
              "        0.8996835 , 0.00946367, 0.5212307 , 0.6345445 , 0.1993283 ,\n",
              "        0.72942245, 0.54583454, 0.10756552, 0.6767061 , 0.6602763 ,\n",
              "        0.33695042, 0.60141766, 0.21062577, 0.8527372 , 0.44062173,\n",
              "        0.9485276 , 0.23752594, 0.81179297, 0.5263394 , 0.494308  ,\n",
              "        0.21612847, 0.8457197 , 0.8718841 , 0.3083862 , 0.6868038 ,\n",
              "        0.23764038, 0.7817228 , 0.9671384 , 0.06870162, 0.79873943,\n",
              "        0.66028714, 0.5871513 , 0.16461694, 0.7381023 , 0.32054043],\n",
              "       dtype=float32)>,\n",
              " TensorShape([50]))"
            ]
          },
          "metadata": {},
          "execution_count": 78
        }
      ]
    },
    {
      "cell_type": "markdown",
      "source": [
        "# One Hot encoding tensors\n",
        "\n",
        "I already know about one-hot encoding from my machine learning experience. To understand it better I use the following resource\n",
        "\n",
        "https://iq.opengenus.org/one-hot-encoding-in-tensorflow/"
      ],
      "metadata": {
        "id": "zwvBTbQrvZFn"
      }
    },
    {
      "cell_type": "code",
      "source": [
        "# Creating a list of indices\n",
        "some_list = [0, 1,2,3] # could be red, green, blue, purple\n",
        "\n",
        "# One hot encode our list of indices\n",
        "tf.one_hot(some_list, depth=4)\n"
      ],
      "metadata": {
        "colab": {
          "base_uri": "https://localhost:8080/"
        },
        "id": "iBu-ADtlw_1l",
        "outputId": "6a39861a-003e-4467-a6b5-97f03d855811"
      },
      "execution_count": 79,
      "outputs": [
        {
          "output_type": "execute_result",
          "data": {
            "text/plain": [
              "<tf.Tensor: shape=(4, 4), dtype=float32, numpy=\n",
              "array([[1., 0., 0., 0.],\n",
              "       [0., 1., 0., 0.],\n",
              "       [0., 0., 1., 0.],\n",
              "       [0., 0., 0., 1.]], dtype=float32)>"
            ]
          },
          "metadata": {},
          "execution_count": 79
        }
      ]
    },
    {
      "cell_type": "code",
      "source": [
        "# Specifying custom values for one hot ecoding\n",
        "tf.one_hot(some_list, depth=4, on_value=\"Yoh, I love deep learning\", off_value=\"I also like to dance\")"
      ],
      "metadata": {
        "colab": {
          "base_uri": "https://localhost:8080/"
        },
        "id": "AuDf2cFF1WCe",
        "outputId": "8e277fd6-4dc3-4dac-b2a5-bad4b5e3c3f3"
      },
      "execution_count": 80,
      "outputs": [
        {
          "output_type": "execute_result",
          "data": {
            "text/plain": [
              "<tf.Tensor: shape=(4, 4), dtype=string, numpy=\n",
              "array([[b'Yoh, I love deep learning', b'I also like to dance',\n",
              "        b'I also like to dance', b'I also like to dance'],\n",
              "       [b'I also like to dance', b'Yoh, I love deep learning',\n",
              "        b'I also like to dance', b'I also like to dance'],\n",
              "       [b'I also like to dance', b'I also like to dance',\n",
              "        b'Yoh, I love deep learning', b'I also like to dance'],\n",
              "       [b'I also like to dance', b'I also like to dance',\n",
              "        b'I also like to dance', b'Yoh, I love deep learning']],\n",
              "      dtype=object)>"
            ]
          },
          "metadata": {},
          "execution_count": 80
        }
      ]
    },
    {
      "cell_type": "markdown",
      "source": [
        "## Squaring, log, square root"
      ],
      "metadata": {
        "id": "-5jPs2D-2hbJ"
      }
    },
    {
      "cell_type": "code",
      "source": [
        "# Creating a new tensor\n",
        "H = tf.range(1,20)\n",
        "H"
      ],
      "metadata": {
        "colab": {
          "base_uri": "https://localhost:8080/"
        },
        "id": "CvSEdz4r3QWb",
        "outputId": "305ceb3f-0b5a-4927-c449-bd15531e2f3a"
      },
      "execution_count": 81,
      "outputs": [
        {
          "output_type": "execute_result",
          "data": {
            "text/plain": [
              "<tf.Tensor: shape=(19,), dtype=int32, numpy=\n",
              "array([ 1,  2,  3,  4,  5,  6,  7,  8,  9, 10, 11, 12, 13, 14, 15, 16, 17,\n",
              "       18, 19], dtype=int32)>"
            ]
          },
          "metadata": {},
          "execution_count": 81
        }
      ]
    },
    {
      "cell_type": "code",
      "source": [
        "# Square it\n",
        "tf.square(H)"
      ],
      "metadata": {
        "colab": {
          "base_uri": "https://localhost:8080/"
        },
        "id": "nGyhHiFo3bj4",
        "outputId": "b43e37e0-4ae6-445e-826e-9ac84ad9fd04"
      },
      "execution_count": 82,
      "outputs": [
        {
          "output_type": "execute_result",
          "data": {
            "text/plain": [
              "<tf.Tensor: shape=(19,), dtype=int32, numpy=\n",
              "array([  1,   4,   9,  16,  25,  36,  49,  64,  81, 100, 121, 144, 169,\n",
              "       196, 225, 256, 289, 324, 361], dtype=int32)>"
            ]
          },
          "metadata": {},
          "execution_count": 82
        }
      ]
    },
    {
      "cell_type": "code",
      "source": [
        "# Find the square root(will error, method requires non-int type)\n",
        "tf.sqrt(H)"
      ],
      "metadata": {
        "colab": {
          "base_uri": "https://localhost:8080/",
          "height": 432
        },
        "id": "Kivn77eX3foj",
        "outputId": "d79cac9d-bf3c-48ac-871b-9f84f6bf0ae9"
      },
      "execution_count": 83,
      "outputs": [
        {
          "output_type": "error",
          "ename": "InvalidArgumentError",
          "evalue": "ignored",
          "traceback": [
            "\u001b[0;31m---------------------------------------------------------------------------\u001b[0m",
            "\u001b[0;31mInvalidArgumentError\u001b[0m                      Traceback (most recent call last)",
            "\u001b[0;32m<ipython-input-83-6f1d3908d487>\u001b[0m in \u001b[0;36m<cell line: 2>\u001b[0;34m()\u001b[0m\n\u001b[1;32m      1\u001b[0m \u001b[0;31m# Find the square root(will error, method requires non-int type)\u001b[0m\u001b[0;34m\u001b[0m\u001b[0;34m\u001b[0m\u001b[0m\n\u001b[0;32m----> 2\u001b[0;31m \u001b[0mtf\u001b[0m\u001b[0;34m.\u001b[0m\u001b[0msqrt\u001b[0m\u001b[0;34m(\u001b[0m\u001b[0mH\u001b[0m\u001b[0;34m)\u001b[0m\u001b[0;34m\u001b[0m\u001b[0;34m\u001b[0m\u001b[0m\n\u001b[0m",
            "\u001b[0;32m/usr/local/lib/python3.10/dist-packages/tensorflow/python/util/traceback_utils.py\u001b[0m in \u001b[0;36merror_handler\u001b[0;34m(*args, **kwargs)\u001b[0m\n\u001b[1;32m    151\u001b[0m     \u001b[0;32mexcept\u001b[0m \u001b[0mException\u001b[0m \u001b[0;32mas\u001b[0m \u001b[0me\u001b[0m\u001b[0;34m:\u001b[0m\u001b[0;34m\u001b[0m\u001b[0;34m\u001b[0m\u001b[0m\n\u001b[1;32m    152\u001b[0m       \u001b[0mfiltered_tb\u001b[0m \u001b[0;34m=\u001b[0m \u001b[0m_process_traceback_frames\u001b[0m\u001b[0;34m(\u001b[0m\u001b[0me\u001b[0m\u001b[0;34m.\u001b[0m\u001b[0m__traceback__\u001b[0m\u001b[0;34m)\u001b[0m\u001b[0;34m\u001b[0m\u001b[0;34m\u001b[0m\u001b[0m\n\u001b[0;32m--> 153\u001b[0;31m       \u001b[0;32mraise\u001b[0m \u001b[0me\u001b[0m\u001b[0;34m.\u001b[0m\u001b[0mwith_traceback\u001b[0m\u001b[0;34m(\u001b[0m\u001b[0mfiltered_tb\u001b[0m\u001b[0;34m)\u001b[0m \u001b[0;32mfrom\u001b[0m \u001b[0;32mNone\u001b[0m\u001b[0;34m\u001b[0m\u001b[0;34m\u001b[0m\u001b[0m\n\u001b[0m\u001b[1;32m    154\u001b[0m     \u001b[0;32mfinally\u001b[0m\u001b[0;34m:\u001b[0m\u001b[0;34m\u001b[0m\u001b[0;34m\u001b[0m\u001b[0m\n\u001b[1;32m    155\u001b[0m       \u001b[0;32mdel\u001b[0m \u001b[0mfiltered_tb\u001b[0m\u001b[0;34m\u001b[0m\u001b[0;34m\u001b[0m\u001b[0m\n",
            "\u001b[0;32m/usr/local/lib/python3.10/dist-packages/tensorflow/python/framework/ops.py\u001b[0m in \u001b[0;36mraise_from_not_ok_status\u001b[0;34m(e, name)\u001b[0m\n\u001b[1;32m   7260\u001b[0m \u001b[0;32mdef\u001b[0m \u001b[0mraise_from_not_ok_status\u001b[0m\u001b[0;34m(\u001b[0m\u001b[0me\u001b[0m\u001b[0;34m,\u001b[0m \u001b[0mname\u001b[0m\u001b[0;34m)\u001b[0m\u001b[0;34m:\u001b[0m\u001b[0;34m\u001b[0m\u001b[0;34m\u001b[0m\u001b[0m\n\u001b[1;32m   7261\u001b[0m   \u001b[0me\u001b[0m\u001b[0;34m.\u001b[0m\u001b[0mmessage\u001b[0m \u001b[0;34m+=\u001b[0m \u001b[0;34m(\u001b[0m\u001b[0;34m\" name: \"\u001b[0m \u001b[0;34m+\u001b[0m \u001b[0mname\u001b[0m \u001b[0;32mif\u001b[0m \u001b[0mname\u001b[0m \u001b[0;32mis\u001b[0m \u001b[0;32mnot\u001b[0m \u001b[0;32mNone\u001b[0m \u001b[0;32melse\u001b[0m \u001b[0;34m\"\"\u001b[0m\u001b[0;34m)\u001b[0m\u001b[0;34m\u001b[0m\u001b[0;34m\u001b[0m\u001b[0m\n\u001b[0;32m-> 7262\u001b[0;31m   \u001b[0;32mraise\u001b[0m \u001b[0mcore\u001b[0m\u001b[0;34m.\u001b[0m\u001b[0m_status_to_exception\u001b[0m\u001b[0;34m(\u001b[0m\u001b[0me\u001b[0m\u001b[0;34m)\u001b[0m \u001b[0;32mfrom\u001b[0m \u001b[0;32mNone\u001b[0m  \u001b[0;31m# pylint: disable=protected-access\u001b[0m\u001b[0;34m\u001b[0m\u001b[0;34m\u001b[0m\u001b[0m\n\u001b[0m\u001b[1;32m   7263\u001b[0m \u001b[0;34m\u001b[0m\u001b[0m\n\u001b[1;32m   7264\u001b[0m \u001b[0;34m\u001b[0m\u001b[0m\n",
            "\u001b[0;31mInvalidArgumentError\u001b[0m: Value for attr 'T' of int32 is not in the list of allowed values: bfloat16, half, float, double, complex64, complex128\n\t; NodeDef: {{node Sqrt}}; Op<name=Sqrt; signature=x:T -> y:T; attr=T:type,allowed=[DT_BFLOAT16, DT_HALF, DT_FLOAT, DT_DOUBLE, DT_COMPLEX64, DT_COMPLEX128]> [Op:Sqrt]"
          ]
        }
      ]
    },
    {
      "cell_type": "code",
      "source": [
        "# Find the squareroot\n",
        "tf.sqrt(tf.cast(H, dtype=tf.float32))"
      ],
      "metadata": {
        "colab": {
          "base_uri": "https://localhost:8080/"
        },
        "id": "i3GXpm0-3iCn",
        "outputId": "174c940b-b104-4b23-a59e-98a10e100508"
      },
      "execution_count": 84,
      "outputs": [
        {
          "output_type": "execute_result",
          "data": {
            "text/plain": [
              "<tf.Tensor: shape=(19,), dtype=float32, numpy=\n",
              "array([1.       , 1.4142135, 1.7320508, 2.       , 2.2360678, 2.4494896,\n",
              "       2.6457512, 2.828427 , 3.       , 3.1622777, 3.3166246, 3.4641016,\n",
              "       3.6055512, 3.7416573, 3.8729832, 4.       , 4.1231055, 4.2426405,\n",
              "       4.3588986], dtype=float32)>"
            ]
          },
          "metadata": {},
          "execution_count": 84
        }
      ]
    },
    {
      "cell_type": "code",
      "source": [
        "# Find the log\n",
        "tf.math.log(tf.cast(H, dtype=tf.float32))"
      ],
      "metadata": {
        "colab": {
          "base_uri": "https://localhost:8080/"
        },
        "id": "X3crD6nU4JnC",
        "outputId": "b7edbb0d-ed1b-43b9-8a05-81377674c6de"
      },
      "execution_count": 85,
      "outputs": [
        {
          "output_type": "execute_result",
          "data": {
            "text/plain": [
              "<tf.Tensor: shape=(19,), dtype=float32, numpy=\n",
              "array([0.       , 0.6931472, 1.0986123, 1.3862944, 1.609438 , 1.7917595,\n",
              "       1.9459102, 2.0794415, 2.1972246, 2.3025851, 2.3978953, 2.4849067,\n",
              "       2.5649493, 2.6390574, 2.7080503, 2.7725887, 2.8332133, 2.8903718,\n",
              "       2.944439 ], dtype=float32)>"
            ]
          },
          "metadata": {},
          "execution_count": 85
        }
      ]
    },
    {
      "cell_type": "markdown",
      "source": [
        "# Tensors and Numpy\n",
        "\n",
        "The key difference between tensors and NumPy arrays is that tensors have accelerator support like GPU and TPU and are immutable.\n",
        "\n",
        "While TensorFlow operations automatically convert NumPy arrays to Tensors and vice versa, you can explicitly convert the tensor object into the NumPy array like this:"
      ],
      "metadata": {
        "id": "eLHJ8euK4Ubz"
      }
    },
    {
      "cell_type": "code",
      "source": [
        "# Creating a tensor directly from a Numpy array\n",
        "J = tf.constant(np.array([3.,7.,20]))\n",
        "J"
      ],
      "metadata": {
        "colab": {
          "base_uri": "https://localhost:8080/"
        },
        "id": "k2O6DaOr5GlM",
        "outputId": "e831141d-4c1f-451d-c4f4-ac9f458d7aae"
      },
      "execution_count": 86,
      "outputs": [
        {
          "output_type": "execute_result",
          "data": {
            "text/plain": [
              "<tf.Tensor: shape=(3,), dtype=float64, numpy=array([ 3.,  7., 20.])>"
            ]
          },
          "metadata": {},
          "execution_count": 86
        }
      ]
    },
    {
      "cell_type": "code",
      "source": [
        "# Converting our tensor back to a Numpy array\n",
        "np.array(J), type(np.array(J))"
      ],
      "metadata": {
        "colab": {
          "base_uri": "https://localhost:8080/"
        },
        "id": "FAX_92rS5Sof",
        "outputId": "77f35245-4a12-4c48-f035-bcaa258bccab"
      },
      "execution_count": 87,
      "outputs": [
        {
          "output_type": "execute_result",
          "data": {
            "text/plain": [
              "(array([ 3.,  7., 20.]), numpy.ndarray)"
            ]
          },
          "metadata": {},
          "execution_count": 87
        }
      ]
    },
    {
      "cell_type": "code",
      "source": [
        "# Converting tensor J to a Numpy array\n",
        "J.numpy(), type(J.numpy())"
      ],
      "metadata": {
        "colab": {
          "base_uri": "https://localhost:8080/"
        },
        "id": "pieztKCP5mSp",
        "outputId": "2caf28cb-8c4d-4711-b0fb-e92c149ce03d"
      },
      "execution_count": 88,
      "outputs": [
        {
          "output_type": "execute_result",
          "data": {
            "text/plain": [
              "(array([ 3.,  7., 20.]), numpy.ndarray)"
            ]
          },
          "metadata": {},
          "execution_count": 88
        }
      ]
    },
    {
      "cell_type": "markdown",
      "source": [
        "# Finding access to GPUs"
      ],
      "metadata": {
        "id": "ul8nfZ9F5uTe"
      }
    },
    {
      "cell_type": "code",
      "source": [
        "tf.test.is_gpu_available(\n",
        "    cuda_only=False, min_cuda_compute_capability=None\n",
        ")"
      ],
      "metadata": {
        "colab": {
          "base_uri": "https://localhost:8080/"
        },
        "id": "zCHMRoja7REs",
        "outputId": "b09b2d7e-a9a0-42a4-c8a4-32ecdd586fad"
      },
      "execution_count": 89,
      "outputs": [
        {
          "output_type": "stream",
          "name": "stderr",
          "text": [
            "WARNING:tensorflow:From <ipython-input-89-97ecbf874269>:1: is_gpu_available (from tensorflow.python.framework.test_util) is deprecated and will be removed in a future version.\n",
            "Instructions for updating:\n",
            "Use `tf.config.list_physical_devices('GPU')` instead.\n"
          ]
        },
        {
          "output_type": "execute_result",
          "data": {
            "text/plain": [
              "True"
            ]
          },
          "metadata": {},
          "execution_count": 89
        }
      ]
    },
    {
      "cell_type": "markdown",
      "source": [
        "**Rerun the colab notebook after changing the runtime to GPU**"
      ],
      "metadata": {
        "id": "FRc1anhh8i7K"
      }
    },
    {
      "cell_type": "code",
      "source": [
        "tf.config.list_physical_devices()"
      ],
      "metadata": {
        "colab": {
          "base_uri": "https://localhost:8080/"
        },
        "id": "nN8Rwt3l7Y_0",
        "outputId": "845d9c8c-5ffd-4fbc-a031-522818fb9df5"
      },
      "execution_count": 90,
      "outputs": [
        {
          "output_type": "execute_result",
          "data": {
            "text/plain": [
              "[PhysicalDevice(name='/physical_device:CPU:0', device_type='CPU'),\n",
              " PhysicalDevice(name='/physical_device:GPU:0', device_type='GPU')]"
            ]
          },
          "metadata": {},
          "execution_count": 90
        }
      ]
    },
    {
      "cell_type": "code",
      "source": [
        "!nvidia-smi"
      ],
      "metadata": {
        "colab": {
          "base_uri": "https://localhost:8080/"
        },
        "id": "8HH0JZ8T7dpB",
        "outputId": "d48b7bec-87e3-48d2-c22c-f9d5860f1a45"
      },
      "execution_count": 91,
      "outputs": [
        {
          "output_type": "stream",
          "name": "stdout",
          "text": [
            "Thu Jul 13 11:11:22 2023       \n",
            "+-----------------------------------------------------------------------------+\n",
            "| NVIDIA-SMI 525.105.17   Driver Version: 525.105.17   CUDA Version: 12.0     |\n",
            "|-------------------------------+----------------------+----------------------+\n",
            "| GPU  Name        Persistence-M| Bus-Id        Disp.A | Volatile Uncorr. ECC |\n",
            "| Fan  Temp  Perf  Pwr:Usage/Cap|         Memory-Usage | GPU-Util  Compute M. |\n",
            "|                               |                      |               MIG M. |\n",
            "|===============================+======================+======================|\n",
            "|   0  Tesla T4            Off  | 00000000:00:04.0 Off |                    0 |\n",
            "| N/A   48C    P0    27W /  70W |    389MiB / 15360MiB |      0%      Default |\n",
            "|                               |                      |                  N/A |\n",
            "+-------------------------------+----------------------+----------------------+\n",
            "                                                                               \n",
            "+-----------------------------------------------------------------------------+\n",
            "| Processes:                                                                  |\n",
            "|  GPU   GI   CI        PID   Type   Process name                  GPU Memory |\n",
            "|        ID   ID                                                   Usage      |\n",
            "|=============================================================================|\n",
            "+-----------------------------------------------------------------------------+\n"
          ]
        }
      ]
    }
  ]
}